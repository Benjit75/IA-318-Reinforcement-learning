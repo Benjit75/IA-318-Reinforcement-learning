{
 "cells": [
  {
   "cell_type": "markdown",
   "metadata": {},
   "source": [
    "# Reinforcement Learning\n",
    "\n",
    "# 6. Bandit Algorithms\n",
    "\n",
    "This notebook presents **multi-armed bandit** algorithms."
   ]
  },
  {
   "cell_type": "code",
   "metadata": {
    "ExecuteTime": {
     "end_time": "2025-01-10T14:11:24.607331Z",
     "start_time": "2025-01-10T14:11:20.727478Z"
    }
   },
   "source": [
    "import numpy as np\n",
    "from matplotlib import pyplot as plt\n",
    "import pandas as pd\n",
    "from tqdm.notebook import tqdm\n",
    "\n",
    "from utils.model import Environment\n",
    "from utils.agent import Agent"
   ],
   "outputs": [],
   "execution_count": 1
  },
  {
   "cell_type": "markdown",
   "metadata": {},
   "source": [
    "## Multi-Armed Bandit\n",
    "\n",
    "Multi-armed bandits are single-state models with random rewards."
   ]
  },
  {
   "cell_type": "code",
   "metadata": {
    "ExecuteTime": {
     "end_time": "2025-01-10T14:11:24.638307Z",
     "start_time": "2025-01-10T14:11:24.621625Z"
    }
   },
   "source": [
    "class MAB(Environment):\n",
    "    \"\"\"Multi-Armed Bandit environnement.\n",
    "    \n",
    "    Parameters\n",
    "    ----------\n",
    "    distribution: string\n",
    "        Reward distribution (Bernoulli, Uniform or Gaussian)\n",
    "    params: list\n",
    "        List of parameters (one per action)\n",
    "        Example for Bernoulli (mean): [0.4, 0.5, 0.6]\n",
    "        Example for Uniform (low, high): [(-1, 1), (0, 1), (-1, 2)]\n",
    "        Example for Gaussian (mean, variance): [(0, 1), (1, 2), (-1, 1)]\n",
    "    \"\"\"\n",
    "\n",
    "    def __init__(self, distribution: str='bernoulli', params=None):\n",
    "        super(MAB, self).__init__()\n",
    "        if params is None:\n",
    "            params = [0.4, 0.6]\n",
    "        if type(distribution) != str:\n",
    "            raise ValueError(\"The parameter 'distribution' must be a string: either 'bernoulli', 'uniform' or 'gaussian'.\")\n",
    "        self.distribution = distribution.lower()\n",
    "        self.params = params\n",
    "         \n",
    "    @staticmethod\n",
    "    def get_states():\n",
    "        \"\"\"Single state.\"\"\"\n",
    "        return [None]\n",
    "    \n",
    "    def get_actions(self):\n",
    "        \"\"\"One action per arm.\"\"\"\n",
    "        actions = [action for action, _ in enumerate(self.params)]\n",
    "        return actions\n",
    "    \n",
    "    def get_reward(self, action):\n",
    "        \"\"\"Random reward. The parameter depends on the action.\"\"\"\n",
    "        if self.distribution == 'bernoulli':\n",
    "            return np.random.random() < self.params[action]\n",
    "        if self.distribution == 'uniform':\n",
    "            low, high = self.params[action]\n",
    "            return np.random.uniform(low, high)\n",
    "        if self.distribution in ['gaussian', 'normal']:\n",
    "            mean, std = self.params[action]\n",
    "            return np.random.normal(mean, std)\n",
    "        raise ValueError('Unknown distribution.')\n",
    "\n",
    "    def get_model(self):\n",
    "        raise ValueError('Not available.')\n",
    "        \n",
    "    def step(self, action):\n",
    "        stop = False\n",
    "        reward = self.get_reward(action)\n",
    "        return reward, stop"
   ],
   "outputs": [],
   "execution_count": 2
  },
  {
   "cell_type": "code",
   "metadata": {
    "ExecuteTime": {
     "end_time": "2025-01-10T14:11:24.826618Z",
     "start_time": "2025-01-10T14:11:24.812589Z"
    }
   },
   "source": [
    "class Bandit(Agent):\n",
    "    \"\"\"Bandit algorithm with random policy. \n",
    "\n",
    "    Parameters\n",
    "    ----------\n",
    "    model : object of class MAB\n",
    "        The model.\n",
    "    init_value : float\n",
    "        Initial value of the action-value function.\n",
    "    init_count : int\n",
    "        Initial count of the action-count function.\n",
    "    \"\"\"\n",
    "    \n",
    "    def __init__(self, model: MAB, init_value: float=0, init_count: int=0):\n",
    "        super(Bandit, self).__init__(model)\n",
    "        if not isinstance(model, MAB):\n",
    "            raise ValueError('The model must be a multi-armed bandit.')\n",
    "        self.model = model\n",
    "        self.policy = self.random_policy\n",
    "        actions = model.get_actions()\n",
    "        self.values = len(actions) * [init_value]\n",
    "        self.counts = len(actions) * [init_count]\n",
    "\n",
    "    def get_actions(self, state=None):\n",
    "        \"\"\"Get all possible actions.\"\"\"\n",
    "        return self.model.get_actions()\n",
    "    \n",
    "    def get_episode(self, horizon=100):\n",
    "        \"\"\"Get the rewards for an episode and update the values.\"\"\"\n",
    "        state = None\n",
    "        rewards = []\n",
    "        for t in range(horizon):\n",
    "            action = self.get_action(state)\n",
    "            reward, _ = self.model.step(action)\n",
    "            rewards.append(reward)\n",
    "            self.counts[action] += 1\n",
    "            diff = reward - self.values[action]\n",
    "            # update by temporal difference\n",
    "            self.values[action] += diff / self.counts[action]\n",
    "        return rewards"
   ],
   "outputs": [],
   "execution_count": 3
  },
  {
   "cell_type": "code",
   "metadata": {
    "ExecuteTime": {
     "end_time": "2025-01-10T14:11:24.872908Z",
     "start_time": "2025-01-10T14:11:24.843864Z"
    }
   },
   "source": [
    "print(\"-\"*5, \" Model \", \"-\"*5)\n",
    "model = MAB()\n",
    "print(f\"Model distribution: {model.distribution}\")\n",
    "print(f\"Model parameters: {model.params}\")\n",
    "print(f\"Actions: {model.get_actions()}\")\n",
    "\n",
    "print(\"-\"*5, \" Bandit Agent \", \"-\"*5)\n",
    "agent = Bandit(model)\n",
    "rewards = agent.get_episode(horizon=100)\n",
    "print(f\"Mean of rewards: {np.mean(rewards):.2f}\")\n",
    "print(f\"Values: {agent.values}\")\n",
    "print(f\"Counts: {agent.counts}\")"
   ],
   "outputs": [
    {
     "name": "stdout",
     "output_type": "stream",
     "text": [
      "-----  Model  -----\n",
      "Model distribution: bernoulli\n",
      "Model parameters: [0.4, 0.6]\n",
      "Actions: [0, 1]\n",
      "-----  Bandit Agent  -----\n",
      "Mean of rewards: 0.51\n",
      "Values: [0.4150943396226415, 0.6170212765957448]\n",
      "Counts: [53, 47]\n"
     ]
    }
   ],
   "execution_count": 4
  },
  {
   "cell_type": "markdown",
   "metadata": {},
   "source": [
    "## The $\\varepsilon$-greedy policy"
   ]
  },
  {
   "cell_type": "code",
   "metadata": {
    "ExecuteTime": {
     "end_time": "2025-01-10T14:11:24.918302Z",
     "start_time": "2025-01-10T14:11:24.905269Z"
    }
   },
   "source": [
    "class Greedy(Bandit):\n",
    "    \"\"\"Bandit algorithm with epsilon-greedy policy. \n",
    "\n",
    "    Parameters\n",
    "    ----------\n",
    "    model : object of class MAB\n",
    "        The model.\n",
    "    epsilon : float in [0, 1]\n",
    "        Exploration rate.\n",
    "    init_value : float\n",
    "        Initial value of the action-value function.\n",
    "    init_count : int\n",
    "        Initial count of the action-count function.\n",
    "    \"\"\"\n",
    "    \n",
    "    def __init__(self, model: MAB, epsilon: float=0.1, init_value: float=0, init_count: int=0):\n",
    "        super(Greedy, self).__init__(model, init_value, init_count) \n",
    "        self.epsilon = epsilon\n",
    "\n",
    "    def get_action(self, state=None):\n",
    "        \"\"\"Get action with eps-greedy policy.\"\"\"\n",
    "        actions = self.get_actions()\n",
    "        if np.random.random() > self.epsilon:\n",
    "            # select the best action(s) with probability 1 - epsilon\n",
    "            values = np.array(self.values)\n",
    "            actions = np.flatnonzero(values==np.max(values))\n",
    "        return np.random.choice(actions)\n"
   ],
   "outputs": [],
   "execution_count": 5
  },
  {
   "cell_type": "code",
   "metadata": {
    "ExecuteTime": {
     "end_time": "2025-01-10T14:11:24.964457Z",
     "start_time": "2025-01-10T14:11:24.937271Z"
    }
   },
   "source": [
    "print(\"-\"*5, \" Greedy Bandit Agent \", \"-\"*5)\n",
    "agent = Greedy(model)\n",
    "rewards = agent.get_episode(horizon=100)\n",
    "print(f\"Mean of rewards: {np.mean(rewards):.2f}\")\n",
    "print(f\"Values: {agent.values}\")\n",
    "print(f\"Counts: {agent.counts}\")"
   ],
   "outputs": [
    {
     "name": "stdout",
     "output_type": "stream",
     "text": [
      "-----  Greedy Bandit Agent  -----\n",
      "Mean of rewards: 0.53\n",
      "Values: [0.3, 0.5555555555555556]\n",
      "Counts: [10, 90]\n"
     ]
    }
   ],
   "execution_count": 6
  },
  {
   "cell_type": "markdown",
   "metadata": {},
   "source": [
    "## To do "
   ]
  },
  {
   "cell_type": "markdown",
   "metadata": {},
   "source": [
    "* Compute the expected **gain** for $\\varepsilon = 0.2$ and check your result by simulation.<br>**Hint:** You might adapt the time horizon.\n",
    "* Observe the phenomenon of **optimism in face of incertainty** when $\\varepsilon = 0$.<br>**Hint:** You might adapt the parameters ``init_value`` and ``init_count``."
   ]
  },
  {
   "metadata": {
    "ExecuteTime": {
     "end_time": "2025-01-10T14:11:27.844181Z",
     "start_time": "2025-01-10T14:11:24.983028Z"
    }
   },
   "cell_type": "code",
   "source": [
    "# Compute the expected gain for epsilon = 0.2\n",
    "print(\"-\"*5, \" Expectation, epsilon=0.2 \", \"-\"*5)\n",
    "epsilon = 0.2\n",
    "values = np.array(model.params)\n",
    "actions = model.get_actions()\n",
    "best_actions = np.flatnonzero(values==np.max(values))\n",
    "probs = np.ones(len(actions)) * epsilon / len(actions)\n",
    "probs[best_actions] += 1 - epsilon\n",
    "gain = np.sum(values * probs)\n",
    "print(f\"Expected gain: {gain:.2f}\")\n",
    "\n",
    "# Simulate the expected gain for epsilon = 0.2\n",
    "print(\"\\n\" + \"-\"*5, \" Simulation, epsilon=0.2 \", \"-\"*5)\n",
    "n_simulations = 100\n",
    "horizon = 1000\n",
    "rewards = np.zeros((n_simulations, horizon))\n",
    "for simulation in tqdm(range(n_simulations), desc=\"Simulating ...\"):\n",
    "    agent = Greedy(model, epsilon=0.2)\n",
    "    rewards[simulation] = agent.get_episode(horizon=horizon)\n",
    "print(f\"Mean of rewards: {np.mean(rewards):.2f}\")"
   ],
   "outputs": [
    {
     "name": "stdout",
     "output_type": "stream",
     "text": [
      "-----  Expectation, epsilon=0.2  -----\n",
      "Expected gain: 0.58\n",
      "\n",
      "-----  Simulation, epsilon=0.2  -----\n"
     ]
    },
    {
     "data": {
      "text/plain": [
       "Simulating ...:   0%|          | 0/100 [00:00<?, ?it/s]"
      ],
      "application/vnd.jupyter.widget-view+json": {
       "version_major": 2,
       "version_minor": 0,
       "model_id": "cde029ca06da4b65851c1cc7275f6885"
      }
     },
     "metadata": {},
     "output_type": "display_data"
    },
    {
     "name": "stdout",
     "output_type": "stream",
     "text": [
      "Mean of rewards: 0.58\n"
     ]
    }
   ],
   "execution_count": 7
  },
  {
   "metadata": {
    "ExecuteTime": {
     "end_time": "2025-01-10T14:11:27.906408Z",
     "start_time": "2025-01-10T14:11:27.863593Z"
    }
   },
   "cell_type": "code",
   "source": [
    "# Optimism in face of incertainty\n",
    "print(\"-\"*5, \" Optimism, epsilon=0 \", \"-\"*5)\n",
    "agent = Greedy(model, epsilon=0., init_value=1., init_count=1)\n",
    "rewards = agent.get_episode(horizon=1000)\n",
    "print(f\"Mean of rewards: {np.mean(rewards):.2f}\")\n",
    "print(f\"Values: {agent.values}\")\n",
    "print(f\"Counts: {agent.counts}\")"
   ],
   "outputs": [
    {
     "name": "stdout",
     "output_type": "stream",
     "text": [
      "-----  Optimism, epsilon=0  -----\n",
      "Mean of rewards: 0.61\n",
      "Values: [0.5, 0.6120000000000001]\n",
      "Counts: [2, 1000]\n"
     ]
    }
   ],
   "execution_count": 8
  },
  {
   "cell_type": "markdown",
   "metadata": {},
   "source": [
    "## The UCB policy\n",
    "\n",
    "We now consider the UCB (Upper Confidence Bound) policy."
   ]
  },
  {
   "cell_type": "markdown",
   "metadata": {},
   "source": [
    "## To do\n",
    "\n",
    "* Complete and test the agent ``UCB`` below.\n",
    "* Plot the **regret** with respect to the time horizon, and compare with the $\\varepsilon$-greedy policy for different values of $\\varepsilon$.\n",
    "* Repeat this experiment for the other models (uniform and Gaussian).<br> Interpret the results.\n",
    "* Test the impact of the number of actions."
   ]
  },
  {
   "cell_type": "code",
   "metadata": {
    "ExecuteTime": {
     "end_time": "2025-01-10T14:11:27.936939Z",
     "start_time": "2025-01-10T14:11:27.924935Z"
    }
   },
   "source": [
    "class UCB(Bandit):\n",
    "    \"\"\"Bandit algorithm with UCB policy. \n",
    "\n",
    "    Parameters\n",
    "    ----------\n",
    "    model : object of class MAB\n",
    "        The model.\n",
    "    const : float in [0, 1]\n",
    "        Multiplicative constant for the UCB bonus.\n",
    "    init_value : float\n",
    "        Initial value of the action-value function.\n",
    "    init_count : int\n",
    "        Initial count of the action-count function.\n",
    "    \"\"\"\n",
    "    \n",
    "    def __init__(self, model: MAB, const: float=1, init_value: float=0, init_count: int=0):\n",
    "        super(UCB, self).__init__(model, init_value, init_count) \n",
    "        self.const = const\n",
    "\n",
    "    def get_action(self, state=None):\n",
    "        \"\"\"Get action with UCB policy.\"\"\"\n",
    "        values = np.array(self.values)\n",
    "        counts = np.array(self.counts)\n",
    "        actions = self.get_actions()\n",
    "\n",
    "        total_counts = np.sum(counts)\n",
    "        if total_counts == 0:\n",
    "            # If no actions have been taken yet, randomly select an action\n",
    "            return np.random.choice(actions)\n",
    "\n",
    "        # UCB calculation\n",
    "        ucb = values + self.const * np.sqrt(np.log(total_counts + 1) / (counts + 1e-5))\n",
    "        best_actions = np.flatnonzero(ucb == np.max(ucb))\n",
    "        best_action = np.random.choice(best_actions) # In case of multiple best actions\n",
    "\n",
    "        return best_action\n"
   ],
   "outputs": [],
   "execution_count": 9
  },
  {
   "cell_type": "code",
   "metadata": {
    "ExecuteTime": {
     "end_time": "2025-01-10T14:11:33.307982Z",
     "start_time": "2025-01-10T14:11:27.954935Z"
    }
   },
   "source": [
    "# Test the UCB agent\n",
    "print(\"-\"*5, \" UCB Bandit Agent \", \"-\"*5)\n",
    "n_simulations = 100\n",
    "horizon = 1000\n",
    "rewards = np.zeros((n_simulations, horizon))\n",
    "for simulation in tqdm(range(n_simulations), desc=\"Simulating ...\"):\n",
    "    agent = UCB(model)\n",
    "    rewards[simulation] = agent.get_episode(horizon=horizon)\n",
    "print(f\"Mean of rewards: {np.mean(rewards):.2f}\")"
   ],
   "outputs": [
    {
     "name": "stdout",
     "output_type": "stream",
     "text": [
      "-----  UCB Bandit Agent  -----\n"
     ]
    },
    {
     "data": {
      "text/plain": [
       "Simulating ...:   0%|          | 0/100 [00:00<?, ?it/s]"
      ],
      "application/vnd.jupyter.widget-view+json": {
       "version_major": 2,
       "version_minor": 0,
       "model_id": "55e62c055dc74ea5986b0426e31b401a"
      }
     },
     "metadata": {},
     "output_type": "display_data"
    },
    {
     "name": "stdout",
     "output_type": "stream",
     "text": [
      "Mean of rewards: 0.58\n"
     ]
    }
   ],
   "execution_count": 10
  },
  {
   "cell_type": "markdown",
   "metadata": {},
   "source": [
    "## Thompson sampling"
   ]
  },
  {
   "cell_type": "markdown",
   "metadata": {},
   "source": [
    "Finally, we consider Thompson Sampling, where the mean rewards are considered as random and sampled according to the posterior distribution (Bayesian algorithm)."
   ]
  },
  {
   "cell_type": "markdown",
   "metadata": {},
   "source": [
    "## To do\n",
    "\n",
    "* Complete and test the agent ``TS`` below.\n",
    "* Plot the **regret** with respect to the time horizon, and compare with the UCB policy for different models.\n",
    "* Which algorithm is the more efficient?<br> Comment your results."
   ]
  },
  {
   "cell_type": "code",
   "metadata": {},
   "source": [
    "class TS(Bandit):\n",
    "    \"\"\"Bandit algorithm with Thompson sampling. \n",
    "\n",
    "    Parameters\n",
    "    ----------\n",
    "    model : object of class MAB\n",
    "        The model.\n",
    "    \"\"\"\n",
    "    \n",
    "    def __init__(self, model):\n",
    "        super(TS, self).__init__(model) \n",
    "        self.distribution = model.distribution\n",
    "            \n",
    "    def get_action(self, state=None):\n",
    "        \"\"\"Get action with TS policy.\"\"\"\n",
    "        values = np.array(self.values)\n",
    "        counts = np.array(self.counts)\n",
    "        if self.distribution == 'bernoulli':\n",
    "            # Beta distribution for Bernoulli rewards\n",
    "            alpha = values * counts + 1 # successes\n",
    "            beta = (1 - values) * counts + 1 # failures\n",
    "            samples = np.random.beta(alpha, beta)\n",
    "        elif self.distribution == 'uniform':\n",
    "            # Uniform distribution for Uniform rewards\n",
    "            low, high = np.array(self.model.params).T\n",
    "            samples = np.random.uniform(low, high)\n",
    "        elif self.distribution == 'gaussian':\n",
    "            # Normal distribution for Gaussian rewards\n",
    "            mean = values\n",
    "            std = np.sqrt(1 / (counts + 1e-5))\n",
    "            samples = np.random.normal(mean, std)\n",
    "        else:\n",
    "            raise ValueError(f\"Unknown distribution: {self.distribution}. Please use 'bernoulli', 'uniform' or 'gaussian' for Thomson sampling.\")\n",
    "        return np.argmax(samples)\n"
   ],
   "outputs": [],
   "execution_count": 11
  },
  {
   "cell_type": "code",
   "metadata": {
    "ExecuteTime": {
     "end_time": "2025-01-10T14:11:37.452464Z",
     "start_time": "2025-01-10T14:11:33.357123Z"
    }
   },
   "source": [
    "# Test the TS agent\n",
    "print(\"-\"*5, \" TS Bandit Agent \", \"-\"*5)\n",
    "n_simulations = 100\n",
    "horizon = 1000\n",
    "rewards = np.zeros((n_simulations, horizon))\n",
    "for simulation in tqdm(range(n_simulations), desc=\"Simulating ...\"):\n",
    "    agent = TS(model)\n",
    "    rewards[simulation] = agent.get_episode(horizon=horizon)\n",
    "print(f\"Mean of rewards: {np.mean(rewards):.2f}\")"
   ],
   "outputs": [
    {
     "name": "stdout",
     "output_type": "stream",
     "text": [
      "-----  TS Bandit Agent  -----\n"
     ]
    },
    {
     "data": {
      "text/plain": [
       "Simulating ...:   0%|          | 0/100 [00:00<?, ?it/s]"
      ],
      "application/vnd.jupyter.widget-view+json": {
       "version_major": 2,
       "version_minor": 0,
       "model_id": "5371f972c84d4699927022d3d1e1e708"
      }
     },
     "metadata": {},
     "output_type": "display_data"
    },
    {
     "name": "stdout",
     "output_type": "stream",
     "text": [
      "Mean of rewards: 0.59\n"
     ]
    }
   ],
   "execution_count": 12
  },
  {
   "metadata": {
    "ExecuteTime": {
     "end_time": "2025-01-10T14:12:35.159023Z",
     "start_time": "2025-01-10T14:11:37.501031Z"
    }
   },
   "cell_type": "code",
   "source": [
    "# Define the parameters\n",
    "DISABLE_TQDM = False\n",
    "n_simulations = 100\n",
    "horizon = 1000\n",
    "epsilons = [0., 0.1, 0.2]\n",
    "const = 1\n",
    "agents = [UCB, Greedy, TS]\n",
    "n_models = 3\n",
    "models = [\n",
    "    MAB('bernoulli'),\n",
    "    MAB('uniform', params=[(-1, 1), (0, 1), (-1, 2)]),\n",
    "    MAB('gaussian', params=[(0, 1), (1, 2), (-1, 1)])\n",
    "]\n",
    "\n",
    "# Function to calculate regrets\n",
    "def calculate_regrets(agent_class, model, epsilon=None, const=None, disable=False):\n",
    "    regrets = np.zeros((n_simulations, horizon))\n",
    "\n",
    "    # Calculate the expected reward of the optimal action\n",
    "    if model.distribution == 'bernoulli':\n",
    "        optimal_reward = np.max(model.params)\n",
    "    elif model.distribution == 'uniform':\n",
    "        optimal_reward = np.max([high for _, high in model.params])\n",
    "    elif model.distribution in ['gaussian', 'normal']:\n",
    "        optimal_reward = np.max([mean for mean, _ in model.params])\n",
    "    else:\n",
    "        raise ValueError(\"Unsupported distribution\")\n",
    "\n",
    "    # Cumulative reward of the optimal policy over the horizon\n",
    "    optimal_cumulative_reward = np.cumsum([optimal_reward] * horizon)\n",
    "\n",
    "    for simulation in tqdm(range(n_simulations), desc=f\"Simulating {agent_class.__name__} with {model.distribution} ...\", disable=disable):\n",
    "        if agent_class == Greedy:\n",
    "            agent = agent_class(model, epsilon=epsilon)\n",
    "        elif agent_class == UCB:\n",
    "            agent = agent_class(model, const=const)\n",
    "        else:\n",
    "            agent = agent_class(model)\n",
    "        rewards = agent.get_episode(horizon=horizon)\n",
    "        cumulative_rewards = np.cumsum(rewards)\n",
    "        regrets[simulation] = optimal_cumulative_reward - cumulative_rewards\n",
    "    return regrets\n",
    "\n",
    "regrets={}\n",
    "\n",
    "# Plotting regrets for each agent\n",
    "fig, axs = plt.subplots(1, len(agents), figsize=(20, 10))\n",
    "for i, Agent in tqdm(enumerate(agents), desc=f\"Computing regrets ...\", total=len(agents), disable=DISABLE_TQDM):\n",
    "    regrets_agent = {}\n",
    "    for model in models:\n",
    "        if Agent == Greedy:\n",
    "            regrets_epsilon = {}\n",
    "            for epsilon in epsilons:\n",
    "                regrets_epsilon[epsilon] = np.mean(calculate_regrets(Agent, model, epsilon=epsilon, disable=DISABLE_TQDM), axis=0)\n",
    "                axs[i].plot(regrets_epsilon[epsilon], label=f\"{Agent.__name__}, {model.distribution}, epsilon={epsilon}\")\n",
    "            regrets_agent[model.distribution] = regrets_epsilon\n",
    "        else:\n",
    "            regrets_agent[model.distribution] = np.mean(calculate_regrets(Agent, model, const=const, disable=DISABLE_TQDM), axis=0)\n",
    "            axs[i].plot(regrets_agent[model.distribution], label=f\"{Agent.__name__}, {model.distribution}\")\n",
    "    regrets[Agent.__name__] = regrets_agent\n",
    "    # Formatting the plot\n",
    "    axs[i].set_yscale('log')\n",
    "    axs[i].grid(True, linestyle='--', alpha=0.7)\n",
    "    axs[i].grid(True, which='minor', linestyle=':', alpha=0.5)\n",
    "    axs[i].set_xlabel('Time steps')\n",
    "    axs[i].set_ylabel('Regret')\n",
    "    axs[i].set_title(f\"{Agent.__name__}\")\n",
    "    axs[i].legend()\n",
    "plt.show()\n",
    "\n",
    "# Summarize the regrets into a structured table\n",
    "regret_table = []\n",
    "for agent_name, agent_data in regrets.items():\n",
    "    for model_name, model_data in agent_data.items():\n",
    "        if isinstance(model_data, dict):  # For Greedy with multiple epsilons\n",
    "            for epsilon, regret in model_data.items():\n",
    "                regret_table.append({\n",
    "                    \"Agent\": agent_name,\n",
    "                    \"Model\": model_name,\n",
    "                    \"Params\": f\"epsilon={epsilon}\",\n",
    "                    \"Final Regret\": regret[-1]  # Cumulative regret at the last time step\n",
    "                })\n",
    "        else:  # For UCB and TS\n",
    "            regret_table.append({\n",
    "                \"Agent\": agent_name,\n",
    "                \"Model\": model_name,\n",
    "                \"Params\": \"N/A\",\n",
    "                \"Final Regret\": model_data[-1]  # Cumulative regret at the last time step\n",
    "            })\n",
    "\n",
    "# Create a pandas DataFrame for easier sorting and display\n",
    "df_regrets = pd.DataFrame(regret_table)\n",
    "df_regrets = df_regrets.sort_values(by=\"Final Regret\", ascending=True)\n",
    "\n",
    "# Display the DataFrame\n",
    "display(df_regrets)"
   ],
   "outputs": [
    {
     "data": {
      "text/plain": [
       "Computing regrets ...:   0%|          | 0/3 [00:00<?, ?it/s]"
      ],
      "application/vnd.jupyter.widget-view+json": {
       "version_major": 2,
       "version_minor": 0,
       "model_id": "4d57a8dd7e1d43e4b170310564eb0640"
      }
     },
     "metadata": {},
     "output_type": "display_data"
    },
    {
     "data": {
      "text/plain": [
       "Simulating UCB with bernoulli ...:   0%|          | 0/100 [00:00<?, ?it/s]"
      ],
      "application/vnd.jupyter.widget-view+json": {
       "version_major": 2,
       "version_minor": 0,
       "model_id": "4d7b2a1972cb4748a828c1a97b1971d7"
      }
     },
     "metadata": {},
     "output_type": "display_data"
    },
    {
     "data": {
      "text/plain": [
       "Simulating UCB with uniform ...:   0%|          | 0/100 [00:00<?, ?it/s]"
      ],
      "application/vnd.jupyter.widget-view+json": {
       "version_major": 2,
       "version_minor": 0,
       "model_id": "726e828875b7464ba78b6404965343cc"
      }
     },
     "metadata": {},
     "output_type": "display_data"
    },
    {
     "data": {
      "text/plain": [
       "Simulating UCB with gaussian ...:   0%|          | 0/100 [00:00<?, ?it/s]"
      ],
      "application/vnd.jupyter.widget-view+json": {
       "version_major": 2,
       "version_minor": 0,
       "model_id": "390e46c0545345e0a921b325ea14207d"
      }
     },
     "metadata": {},
     "output_type": "display_data"
    },
    {
     "data": {
      "text/plain": [
       "Simulating Greedy with bernoulli ...:   0%|          | 0/100 [00:00<?, ?it/s]"
      ],
      "application/vnd.jupyter.widget-view+json": {
       "version_major": 2,
       "version_minor": 0,
       "model_id": "1c636a5d6f834c398a79c27067765c2b"
      }
     },
     "metadata": {},
     "output_type": "display_data"
    },
    {
     "data": {
      "text/plain": [
       "Simulating Greedy with bernoulli ...:   0%|          | 0/100 [00:00<?, ?it/s]"
      ],
      "application/vnd.jupyter.widget-view+json": {
       "version_major": 2,
       "version_minor": 0,
       "model_id": "816b06991e5a46bfb8c8e1543944e8ca"
      }
     },
     "metadata": {},
     "output_type": "display_data"
    },
    {
     "data": {
      "text/plain": [
       "Simulating Greedy with bernoulli ...:   0%|          | 0/100 [00:00<?, ?it/s]"
      ],
      "application/vnd.jupyter.widget-view+json": {
       "version_major": 2,
       "version_minor": 0,
       "model_id": "39133e5b2a834536870abae9e4ca347d"
      }
     },
     "metadata": {},
     "output_type": "display_data"
    },
    {
     "data": {
      "text/plain": [
       "Simulating Greedy with uniform ...:   0%|          | 0/100 [00:00<?, ?it/s]"
      ],
      "application/vnd.jupyter.widget-view+json": {
       "version_major": 2,
       "version_minor": 0,
       "model_id": "16f1d7d40fb44d379a024ad404700490"
      }
     },
     "metadata": {},
     "output_type": "display_data"
    },
    {
     "data": {
      "text/plain": [
       "Simulating Greedy with uniform ...:   0%|          | 0/100 [00:00<?, ?it/s]"
      ],
      "application/vnd.jupyter.widget-view+json": {
       "version_major": 2,
       "version_minor": 0,
       "model_id": "167ad00c4405449db3dbdcefe49fac0e"
      }
     },
     "metadata": {},
     "output_type": "display_data"
    },
    {
     "data": {
      "text/plain": [
       "Simulating Greedy with uniform ...:   0%|          | 0/100 [00:00<?, ?it/s]"
      ],
      "application/vnd.jupyter.widget-view+json": {
       "version_major": 2,
       "version_minor": 0,
       "model_id": "442b92c1e28340cd862fcebcd54862b7"
      }
     },
     "metadata": {},
     "output_type": "display_data"
    },
    {
     "data": {
      "text/plain": [
       "Simulating Greedy with gaussian ...:   0%|          | 0/100 [00:00<?, ?it/s]"
      ],
      "application/vnd.jupyter.widget-view+json": {
       "version_major": 2,
       "version_minor": 0,
       "model_id": "9ad04e92b700456f8de9541260cb0fb7"
      }
     },
     "metadata": {},
     "output_type": "display_data"
    },
    {
     "data": {
      "text/plain": [
       "Simulating Greedy with gaussian ...:   0%|          | 0/100 [00:00<?, ?it/s]"
      ],
      "application/vnd.jupyter.widget-view+json": {
       "version_major": 2,
       "version_minor": 0,
       "model_id": "40e76aa5d84340309c36ab72293be4af"
      }
     },
     "metadata": {},
     "output_type": "display_data"
    },
    {
     "data": {
      "text/plain": [
       "Simulating Greedy with gaussian ...:   0%|          | 0/100 [00:00<?, ?it/s]"
      ],
      "application/vnd.jupyter.widget-view+json": {
       "version_major": 2,
       "version_minor": 0,
       "model_id": "f44cfd69b1784b40bb67bc74b4de773e"
      }
     },
     "metadata": {},
     "output_type": "display_data"
    },
    {
     "data": {
      "text/plain": [
       "Simulating TS with bernoulli ...:   0%|          | 0/100 [00:00<?, ?it/s]"
      ],
      "application/vnd.jupyter.widget-view+json": {
       "version_major": 2,
       "version_minor": 0,
       "model_id": "f9d06defa4bd47cbb6a2f1400f3296cd"
      }
     },
     "metadata": {},
     "output_type": "display_data"
    },
    {
     "data": {
      "text/plain": [
       "Simulating TS with uniform ...:   0%|          | 0/100 [00:00<?, ?it/s]"
      ],
      "application/vnd.jupyter.widget-view+json": {
       "version_major": 2,
       "version_minor": 0,
       "model_id": "b6c4a4cf05ef4c28b624eb2cd367454f"
      }
     },
     "metadata": {},
     "output_type": "display_data"
    },
    {
     "data": {
      "text/plain": [
       "Simulating TS with gaussian ...:   0%|          | 0/100 [00:00<?, ?it/s]"
      ],
      "application/vnd.jupyter.widget-view+json": {
       "version_major": 2,
       "version_minor": 0,
       "model_id": "89f095bb7fc544ec804c579a9391c9ae"
      }
     },
     "metadata": {},
     "output_type": "display_data"
    },
    {
     "data": {
      "text/plain": [
       "<Figure size 1440x720 with 3 Axes>"
      ],
      "image/png": "[encoded data removed]"
     },
     "metadata": {
      "needs_background": "light"
     },
     "output_type": "display_data"
    },
    {
     "data": {
      "text/plain": [
       "     Agent      Model       Params  Final Regret\n",
       "12      TS  bernoulli          N/A      7.140000\n",
       "0      UCB  bernoulli          N/A     15.190000\n",
       "4   Greedy  bernoulli  epsilon=0.1     15.940000\n",
       "5   Greedy  bernoulli  epsilon=0.2     21.960000\n",
       "14      TS   gaussian          N/A     74.526431\n",
       "3   Greedy  bernoulli  epsilon=0.0     92.270000\n",
       "2      UCB   gaussian          N/A    127.858072\n",
       "10  Greedy   gaussian  epsilon=0.1    141.444794\n",
       "11  Greedy   gaussian  epsilon=0.2    221.087862\n",
       "9   Greedy   gaussian  epsilon=0.0    297.005341\n",
       "1      UCB    uniform          N/A   1513.679360\n",
       "6   Greedy    uniform  epsilon=0.0   1514.061659\n",
       "7   Greedy    uniform  epsilon=0.1   1518.299989\n",
       "8   Greedy    uniform  epsilon=0.2   1533.551585\n",
       "13      TS    uniform          N/A   1571.961001"
      ],
      "text/html": [
       "<div>\n",
       "<style scoped>\n",
       "    .dataframe tbody tr th:only-of-type {\n",
       "        vertical-align: middle;\n",
       "    }\n",
       "\n",
       "    .dataframe tbody tr th {\n",
       "        vertical-align: top;\n",
       "    }\n",
       "\n",
       "    .dataframe thead th {\n",
       "        text-align: right;\n",
       "    }\n",
       "</style>\n",
       "<table border=\"1\" class=\"dataframe\">\n",
       "  <thead>\n",
       "    <tr style=\"text-align: right;\">\n",
       "      <th></th>\n",
       "      <th>Agent</th>\n",
       "      <th>Model</th>\n",
       "      <th>Params</th>\n",
       "      <th>Final Regret</th>\n",
       "    </tr>\n",
       "  </thead>\n",
       "  <tbody>\n",
       "    <tr>\n",
       "      <th>12</th>\n",
       "      <td>TS</td>\n",
       "      <td>bernoulli</td>\n",
       "      <td>N/A</td>\n",
       "      <td>7.140000</td>\n",
       "    </tr>\n",
       "    <tr>\n",
       "      <th>0</th>\n",
       "      <td>UCB</td>\n",
       "      <td>bernoulli</td>\n",
       "      <td>N/A</td>\n",
       "      <td>15.190000</td>\n",
       "    </tr>\n",
       "    <tr>\n",
       "      <th>4</th>\n",
       "      <td>Greedy</td>\n",
       "      <td>bernoulli</td>\n",
       "      <td>epsilon=0.1</td>\n",
       "      <td>15.940000</td>\n",
       "    </tr>\n",
       "    <tr>\n",
       "      <th>5</th>\n",
       "      <td>Greedy</td>\n",
       "      <td>bernoulli</td>\n",
       "      <td>epsilon=0.2</td>\n",
       "      <td>21.960000</td>\n",
       "    </tr>\n",
       "    <tr>\n",
       "      <th>14</th>\n",
       "      <td>TS</td>\n",
       "      <td>gaussian</td>\n",
       "      <td>N/A</td>\n",
       "      <td>74.526431</td>\n",
       "    </tr>\n",
       "    <tr>\n",
       "      <th>3</th>\n",
       "      <td>Greedy</td>\n",
       "      <td>bernoulli</td>\n",
       "      <td>epsilon=0.0</td>\n",
       "      <td>92.270000</td>\n",
       "    </tr>\n",
       "    <tr>\n",
       "      <th>2</th>\n",
       "      <td>UCB</td>\n",
       "      <td>gaussian</td>\n",
       "      <td>N/A</td>\n",
       "      <td>127.858072</td>\n",
       "    </tr>\n",
       "    <tr>\n",
       "      <th>10</th>\n",
       "      <td>Greedy</td>\n",
       "      <td>gaussian</td>\n",
       "      <td>epsilon=0.1</td>\n",
       "      <td>141.444794</td>\n",
       "    </tr>\n",
       "    <tr>\n",
       "      <th>11</th>\n",
       "      <td>Greedy</td>\n",
       "      <td>gaussian</td>\n",
       "      <td>epsilon=0.2</td>\n",
       "      <td>221.087862</td>\n",
       "    </tr>\n",
       "    <tr>\n",
       "      <th>9</th>\n",
       "      <td>Greedy</td>\n",
       "      <td>gaussian</td>\n",
       "      <td>epsilon=0.0</td>\n",
       "      <td>297.005341</td>\n",
       "    </tr>\n",
       "    <tr>\n",
       "      <th>1</th>\n",
       "      <td>UCB</td>\n",
       "      <td>uniform</td>\n",
       "      <td>N/A</td>\n",
       "      <td>1513.679360</td>\n",
       "    </tr>\n",
       "    <tr>\n",
       "      <th>6</th>\n",
       "      <td>Greedy</td>\n",
       "      <td>uniform</td>\n",
       "      <td>epsilon=0.0</td>\n",
       "      <td>1514.061659</td>\n",
       "    </tr>\n",
       "    <tr>\n",
       "      <th>7</th>\n",
       "      <td>Greedy</td>\n",
       "      <td>uniform</td>\n",
       "      <td>epsilon=0.1</td>\n",
       "      <td>1518.299989</td>\n",
       "    </tr>\n",
       "    <tr>\n",
       "      <th>8</th>\n",
       "      <td>Greedy</td>\n",
       "      <td>uniform</td>\n",
       "      <td>epsilon=0.2</td>\n",
       "      <td>1533.551585</td>\n",
       "    </tr>\n",
       "    <tr>\n",
       "      <th>13</th>\n",
       "      <td>TS</td>\n",
       "      <td>uniform</td>\n",
       "      <td>N/A</td>\n",
       "      <td>1571.961001</td>\n",
       "    </tr>\n",
       "  </tbody>\n",
       "</table>\n",
       "</div>"
      ]
     },
     "metadata": {},
     "output_type": "display_data"
    }
   ],
   "execution_count": 13
  },
  {
   "metadata": {},
   "cell_type": "markdown",
   "source": [
    "## Conclusion\n",
    "\n",
    "The best model seems to be the TS Agent with Bernoulli distribution. It has the lowest regret compared to the other models. Others agents with bernoulli distribution also perform well. Agents with uniform distribution habe the highest regret."
   ]
  }
 ],
 "metadata": {
  "kernelspec": {
   "display_name": "Python 3 (ipykernel)",
   "language": "python",
   "name": "python3"
  },
  "language_info": {
   "codemirror_mode": {
    "name": "ipython",
    "version": 3
   },
   "file_extension": ".py",
   "mimetype": "text/x-python",
   "name": "python",
   "nbconvert_exporter": "python",
   "pygments_lexer": "ipython3",
   "version": "3.9.18"
  }
 },
 "nbformat": 4,
 "nbformat_minor": 4
}
