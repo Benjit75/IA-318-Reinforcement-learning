{
 "cells": [
  {
   "cell_type": "markdown",
   "metadata": {},
   "source": [
    "# Reinforcement Learning\n",
    "\n",
    "# 4. Online control\n",
    "\n",
    "This notebook presents the **online control** of an agent by SARSA and Q-learning."
   ]
  },
  {
   "cell_type": "code",
   "metadata": {
    "ExecuteTime": {
     "end_time": "2024-12-10T10:38:24.528465Z",
     "start_time": "2024-12-10T10:38:23.745250Z"
    }
   },
   "source": [
    "import matplotlib.pyplot as plt\n",
    "import numpy as np\n",
    "from tqdm.notebook import tqdm\n",
    "\n",
    "from utils.model import TicTacToe, Nim, ConnectFour\n",
    "from utils.agent import Agent, OnlineControl\n",
    "from utils.dynamic import ValueIteration\n",
    "\n",
    "%matplotlib inline"
   ],
   "outputs": [],
   "execution_count": 1
  },
  {
   "metadata": {
    "ExecuteTime": {
     "end_time": "2024-12-10T10:38:24.544408Z",
     "start_time": "2024-12-10T10:38:24.535003Z"
    }
   },
   "cell_type": "code",
   "source": [
    "from IPython.core.display import display, HTML\n",
    "\n",
    "def display_answer(title, answer):\n",
    "    if isinstance(answer, list):\n",
    "        string_display = f\"\"\"<div class=\"alert alert-block alert-success\"> <h1>{title}:</h1><ul>\"\"\"\n",
    "        for a in answer:\n",
    "            string_display += f\"<li>{a}</li>\"\n",
    "        string_display += \"</ul></div>\"\n",
    "    elif isinstance(answer, str):\n",
    "        string_display = f\"\"\"<div class=\"alert alert-block alert-success\"> <h1>{title}:</h1>{answer} </div>\"\"\"\n",
    "    else:\n",
    "        raise ValueError(\"Answer should be a string or a list of strings.\")\n",
    "    display(HTML(string_display))"
   ],
   "outputs": [],
   "execution_count": 2
  },
  {
   "cell_type": "markdown",
   "metadata": {},
   "source": [
    "## To do\n",
    "\n",
    "* Complete the class ``SARSA`` and test it on Tic-Tac-Toe.\n",
    "* Complete the class ``QLearning`` and test it on Tic-Tac-Toe.\n",
    "* Compare these algorithms on Tic-Tac-Toe (play first) and Nim (play second), using a random adversary, then a perfect adversary. Comment your results.\n",
    "* Test these algorithms on Connect 4 against a random adversary. Comment your results."
   ]
  },
  {
   "cell_type": "markdown",
   "metadata": {},
   "source": [
    "## SARSA"
   ]
  },
  {
   "cell_type": "code",
   "metadata": {
    "ExecuteTime": {
     "end_time": "2024-12-10T10:38:24.640287Z",
     "start_time": "2024-12-10T10:38:24.625230Z"
    }
   },
   "source": [
    "class SARSA(OnlineControl):\n",
    "    \"\"\"Online control by SARSA.\"\"\"\n",
    "        \n",
    "    def update_values(self, state=None, horizon=100, epsilon=0.5):\n",
    "        \"\"\"Learn the action-value function online.\"\"\"\n",
    "        self.model.reset(state)\n",
    "        state = self.model.state\n",
    "        if not self.model.is_terminal(state):\n",
    "            action = self.randomize_best_action(state, epsilon=epsilon)\n",
    "            for t in range(horizon):\n",
    "                code = self.model.encode(state)\n",
    "                self.action_count[code][action] += 1\n",
    "                reward, stop = self.model.step(action)\n",
    "                # to be modified (get sample gain)\n",
    "                # begin\n",
    "                gain = reward\n",
    "                # end\n",
    "                diff = gain - self.action_value[code][action]\n",
    "                count = self.action_count[code][action]\n",
    "                self.action_value[code][action] += diff / count\n",
    "                if stop:\n",
    "                    break\n",
    "                # to be modified (update state and action)\n",
    "                # begin\n",
    "                state = self.model.state\n",
    "                action = self.randomize_best_action(state, epsilon=epsilon)\n",
    "                # end"
   ],
   "outputs": [],
   "execution_count": 3
  },
  {
   "cell_type": "markdown",
   "metadata": {},
   "source": [
    "## Q-learning"
   ]
  },
  {
   "cell_type": "code",
   "metadata": {
    "ExecuteTime": {
     "end_time": "2024-12-10T10:38:25.448031Z",
     "start_time": "2024-12-10T10:38:25.430855Z"
    }
   },
   "source": [
    "class QLearning(OnlineControl):\n",
    "    \"\"\"Online control by Q-learning.\"\"\"\n",
    "        \n",
    "    def update_values(self, state=None, horizon=100, epsilon=0.5):\n",
    "        \"\"\"Learn the action-value function online.\"\"\"\n",
    "        self.model.reset(state)\n",
    "        state = self.model.state\n",
    "        if not self.model.is_terminal(state):\n",
    "            for t in range(horizon):\n",
    "                code = self.model.encode(state)\n",
    "                action = self.randomize_best_action(state, epsilon=epsilon)\n",
    "                self.action_count[code][action] += 1\n",
    "                reward, stop = self.model.step(action)\n",
    "                gain = reward\n",
    "                diff = gain - self.action_value[code][action]\n",
    "                count = self.action_count[code][action]\n",
    "                self.action_value[code][action] += diff / count\n",
    "                if stop:\n",
    "                    break\n",
    "                state = self.model.state"
   ],
   "outputs": [],
   "execution_count": 4
  },
  {
   "cell_type": "markdown",
   "metadata": {},
   "source": [
    "## To do"
   ]
  },
  {
   "metadata": {
    "ExecuteTime": {
     "end_time": "2024-12-10T11:36:59.264108Z",
     "start_time": "2024-12-10T11:35:26.840356Z"
    }
   },
   "cell_type": "code",
   "source": [
    "gains = {}\n",
    "issues = {'TicTacToe': np.array([-1., 0., 1.]), 'Nim': np.array([-1., 1.])}\n",
    "ticks = {'TicTacToe': (np.array([-1., 0., 1.]), ['Losses', 'Draws', 'Wins']), 'Nim': (np.array([0., 1.]), ['Losses', 'Wins'])}\n",
    "play_first = {'TicTacToe': True, 'Nim': False}\n",
    "n_games = 1000\n",
    "n_run = 100\n",
    "for Game in [TicTacToe, Nim]:\n",
    "    gains_game = {}\n",
    "    adversary_policies = {'random': 'random', 'perfect': ValueIteration(Game(play_first=play_first[Game.__name__])).get_perfect_players()[1]}\n",
    "    for Control in [SARSA, QLearning]:\n",
    "        gains_algo = {}\n",
    "        for adversary_policy in ['random', 'perfect']:\n",
    "            game = Game(adversary_policy=adversary_policies[adversary_policy], play_first=play_first[Game.__name__])\n",
    "            agent = Agent(game)\n",
    "            algo = Control(game)\n",
    "            for i in tqdm(range(n_games), desc=f'Simulating {game.__class__.__name__} with {algo.__class__.__name__} control and {adversary_policy} adversary'):\n",
    "                algo.update_values(epsilon=0.1, horizon=500)\n",
    "\n",
    "            policy = algo.get_policy()\n",
    "            agent = Agent(game, policy)\n",
    "            gain = agent.get_gains(n_runs=n_run)\n",
    "            gains_algo[adversary_policy] = np.array([np.sum(gain==k) for k in issues[game.__class__.__name__]])\n",
    "        gains_game[algo.__class__.__name__] = gains_algo\n",
    "    gains[game.__class__.__name__] = gains_game\n",
    "\n",
    "for game, gains_game in gains.items():\n",
    "    list_answers = []\n",
    "    for algo, gains_algo in gains_game.items():\n",
    "        for adversary_policy, gains in gains_algo.items():\n",
    "            list_answers.append(f'<b>{algo} control, {adversary_policy} adversary</b>: mean of gains is about {np.multiply(issues[game], gains).sum()/n_run:.2f}')\n",
    "        # Show bar plot against different adversaries\n",
    "        fig, ax = plt.subplots()\n",
    "        bar_width = 0.35\n",
    "        index = ticks[game][0]\n",
    "        opacity = 0.8\n",
    "        rects1 = plt.bar(index - bar_width/2, gains_algo['random'], bar_width, alpha=opacity, color='b', label='Random Adversary')\n",
    "        rects2 = plt.bar(index + bar_width/2, gains_algo['perfect'], bar_width, alpha=opacity, color='r', label='Perfect Adversary')\n",
    "        plt.xlabel('Gains')\n",
    "        plt.ylabel('Frequency')\n",
    "        plt.yticks(np.arange(0, 100, 10), [f'{i}%' for i in np.arange(0, 100, 10)])\n",
    "        plt.grid(axis='y')\n",
    "        plt.xticks(index, ticks[game][1])\n",
    "        plt.title(f'Gains by {algo} control for {game}')\n",
    "        plt.legend()\n",
    "        plt.show()\n",
    "    display_answer(f'{game} results', list_answers)\n"
   ],
   "outputs": [
    {
     "data": {
      "text/plain": [
       "Simulating TicTacToe with SARSA control and random adversary:   0%|          | 0/1000 [00:00<?, ?it/s]"
      ],
      "application/vnd.jupyter.widget-view+json": {
       "version_major": 2,
       "version_minor": 0,
       "model_id": "99e1a2350e504ec39f765b6f3fac5f63"
      }
     },
     "metadata": {},
     "output_type": "display_data"
    },
    {
     "data": {
      "text/plain": [
       "Simulating TicTacToe with SARSA control and perfect adversary:   0%|          | 0/1000 [00:00<?, ?it/s]"
      ],
      "application/vnd.jupyter.widget-view+json": {
       "version_major": 2,
       "version_minor": 0,
       "model_id": "718549363d74412cbf649538498421c0"
      }
     },
     "metadata": {},
     "output_type": "display_data"
    },
    {
     "data": {
      "text/plain": [
       "Simulating TicTacToe with QLearning control and random adversary:   0%|          | 0/1000 [00:00<?, ?it/s]"
      ],
      "application/vnd.jupyter.widget-view+json": {
       "version_major": 2,
       "version_minor": 0,
       "model_id": "33660e847c074a728196641a2974102a"
      }
     },
     "metadata": {},
     "output_type": "display_data"
    },
    {
     "data": {
      "text/plain": [
       "Simulating TicTacToe with QLearning control and perfect adversary:   0%|          | 0/1000 [00:00<?, ?it/s]"
      ],
      "application/vnd.jupyter.widget-view+json": {
       "version_major": 2,
       "version_minor": 0,
       "model_id": "f057de216b26458bb186ae2b5cd4de91"
      }
     },
     "metadata": {},
     "output_type": "display_data"
    },
    {
     "data": {
      "text/plain": [
       "Simulating Nim with SARSA control and random adversary:   0%|          | 0/1000 [00:00<?, ?it/s]"
      ],
      "application/vnd.jupyter.widget-view+json": {
       "version_major": 2,
       "version_minor": 0,
       "model_id": "ff44de2881824e39a9369f3d9b7dd124"
      }
     },
     "metadata": {},
     "output_type": "display_data"
    },
    {
     "data": {
      "text/plain": [
       "Simulating Nim with SARSA control and perfect adversary:   0%|          | 0/1000 [00:00<?, ?it/s]"
      ],
      "application/vnd.jupyter.widget-view+json": {
       "version_major": 2,
       "version_minor": 0,
       "model_id": "4d874827e5ac419e9739279b75917639"
      }
     },
     "metadata": {},
     "output_type": "display_data"
    },
    {
     "data": {
      "text/plain": [
       "Simulating Nim with QLearning control and random adversary:   0%|          | 0/1000 [00:00<?, ?it/s]"
      ],
      "application/vnd.jupyter.widget-view+json": {
       "version_major": 2,
       "version_minor": 0,
       "model_id": "ca5c8172f6374ba0bb181fd1960d4edc"
      }
     },
     "metadata": {},
     "output_type": "display_data"
    },
    {
     "data": {
      "text/plain": [
       "Simulating Nim with QLearning control and perfect adversary:   0%|          | 0/1000 [00:00<?, ?it/s]"
      ],
      "application/vnd.jupyter.widget-view+json": {
       "version_major": 2,
       "version_minor": 0,
       "model_id": "5008512cf3464d8f8b4edb87f4d00db2"
      }
     },
     "metadata": {},
     "output_type": "display_data"
    },
    {
     "data": {
      "text/plain": [
       "<Figure size 432x288 with 1 Axes>"
      ],
      "image/png": "[encoded data removed]"
     },
     "metadata": {
      "needs_background": "light"
     },
     "output_type": "display_data"
    },
    {
     "data": {
      "text/plain": [
       "<Figure size 432x288 with 1 Axes>"
      ],
      "image/png": "[encoded data removed]"
     },
     "metadata": {
      "needs_background": "light"
     },
     "output_type": "display_data"
    },
    {
     "data": {
      "text/plain": [
       "<IPython.core.display.HTML object>"
      ],
      "text/html": [
       "<div class=\"alert alert-block alert-success\"> <h1>TicTacToe results:</h1><ul><li><b>SARSA control, random adversary</b>: mean of gains is about 0.35</li><li><b>SARSA control, perfect adversary</b>: mean of gains is about -0.78</li><li><b>QLearning control, random adversary</b>: mean of gains is about 0.43</li><li><b>QLearning control, perfect adversary</b>: mean of gains is about -0.78</li></ul></div>"
      ]
     },
     "metadata": {},
     "output_type": "display_data"
    },
    {
     "data": {
      "text/plain": [
       "<Figure size 432x288 with 1 Axes>"
      ],
      "image/png": "[encoded data removed]"
     },
     "metadata": {
      "needs_background": "light"
     },
     "output_type": "display_data"
    },
    {
     "data": {
      "text/plain": [
       "<Figure size 432x288 with 1 Axes>"
      ],
      "image/png": "[encoded data removed]"
     },
     "metadata": {
      "needs_background": "light"
     },
     "output_type": "display_data"
    },
    {
     "data": {
      "text/plain": [
       "<IPython.core.display.HTML object>"
      ],
      "text/html": [
       "<div class=\"alert alert-block alert-success\"> <h1>Nim results:</h1><ul><li><b>SARSA control, random adversary</b>: mean of gains is about 0.14</li><li><b>SARSA control, perfect adversary</b>: mean of gains is about -0.98</li><li><b>QLearning control, random adversary</b>: mean of gains is about 0.00</li><li><b>QLearning control, perfect adversary</b>: mean of gains is about -1.00</li></ul></div>"
      ]
     },
     "metadata": {},
     "output_type": "display_data"
    }
   ],
   "execution_count": 18
  }
 ],
 "metadata": {
  "kernelspec": {
   "display_name": "Python 3 (ipykernel)",
   "language": "python",
   "name": "python3"
  },
  "language_info": {
   "codemirror_mode": {
    "name": "ipython",
    "version": 3
   },
   "file_extension": ".py",
   "mimetype": "text/x-python",
   "name": "python",
   "nbconvert_exporter": "python",
   "pygments_lexer": "ipython3",
   "version": "3.9.18"
  }
 },
 "nbformat": 4,
 "nbformat_minor": 4
}
