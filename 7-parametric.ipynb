{
 "cells": [
  {
   "cell_type": "markdown",
   "metadata": {},
   "source": [
    "# Reinforcement Learning\n",
    "\n",
    "# 7. Parametric Bandits"
   ]
  },
  {
   "cell_type": "markdown",
   "metadata": {},
   "source": [
    "The objective of this lab is to recommend contents (here movies) using **parametric bandits**. The rewards are binary (like or dislike).\n"
   ]
  },
  {
   "cell_type": "markdown",
   "metadata": {},
   "source": [
    "## Imports"
   ]
  },
  {
   "cell_type": "code",
   "metadata": {
    "ExecuteTime": {
     "end_time": "2025-01-17T16:16:03.880537Z",
     "start_time": "2025-01-17T16:16:02.906841Z"
    }
   },
   "source": [
    "from ipywidgets import AppLayout, Button, GridspecLayout, Image, Layout, VBox, Label\n",
    "\n",
    "import numpy as np\n",
    "import pandas as pd\n",
    "from sklearn.linear_model import LogisticRegression\n",
    "from sklearn.preprocessing import MultiLabelBinarizer\n",
    "from scipy.stats import spearmanr"
   ],
   "outputs": [],
   "execution_count": 1
  },
  {
   "cell_type": "markdown",
   "metadata": {},
   "source": [
    "You will need ``ipywidgets`` to simulate the interactions with the user."
   ]
  },
  {
   "cell_type": "markdown",
   "metadata": {},
   "source": [
    "## Data"
   ]
  },
  {
   "cell_type": "markdown",
   "metadata": {},
   "source": [
    "We work on a catalogue of 1037 movies available in 2015."
   ]
  },
  {
   "cell_type": "code",
   "metadata": {
    "ExecuteTime": {
     "end_time": "2025-01-17T16:16:03.926917Z",
     "start_time": "2025-01-17T16:16:03.887545Z"
    }
   },
   "source": [
    "catalogue = pd.read_pickle('movie_database.pickle')\n",
    "print(f\"There are {len(catalogue)} movies in the catalogue.\")\n",
    "display(catalogue.head())"
   ],
   "outputs": [
    {
     "name": "stdout",
     "output_type": "stream",
     "text": [
      "There are 1037 movies in the catalogue.\n"
     ]
    },
    {
     "data": {
      "text/plain": [
       "                                              Actors  \\\n",
       "0  [Mark Hamill, Harrison Ford, Carrie Fisher, Bi...   \n",
       "1  [Kareem Abdul-Jabbar, Lloyd Bridges, Peter Gra...   \n",
       "2  [John Belushi, Dan Aykroyd, James Brown, Cab C...   \n",
       "3  [Jack Nicholson, Shelley Duvall, Danny Lloyd, ...   \n",
       "4  [Anthony Hopkins, John Hurt, Anne Bancroft, Jo...   \n",
       "\n",
       "                                              Awards    Country  \\\n",
       "0     Won 1 Oscar. Another 15 wins & 18 nominations.      [USA]   \n",
       "1  Nominated for 1 Golden Globe. Another 2 wins &...      [USA]   \n",
       "2                                             1 win.      [USA]   \n",
       "3                            3 wins & 5 nominations.  [USA, UK]   \n",
       "4  Nominated for 8 Oscars. Another 10 wins & 14 n...  [USA, UK]   \n",
       "\n",
       "                                     Director                         Genre  \\\n",
       "0                            [Irvin Kershner]  [Action, Adventure, Fantasy]   \n",
       "1  [Jim Abrahams, David Zucker, Jerry Zucker]                      [Comedy]   \n",
       "2                               [John Landis]       [Action, Comedy, Crime]   \n",
       "3                           [Stanley Kubrick]               [Drama, Horror]   \n",
       "4                               [David Lynch]            [Biography, Drama]   \n",
       "\n",
       "    Language Rated   Released                                           Title  \\\n",
       "0  [English]  [PG] 1980-06-20  Star Wars: Episode V - The Empire Strikes Back   \n",
       "1  [English]  [PG] 1980-07-02                                       Airplane!   \n",
       "2  [English]   [R] 1980-06-20                              The Blues Brothers   \n",
       "3  [English]   [R] 1980-05-23                                     The Shining   \n",
       "4  [English]  [PG] 1980-10-10                                The Elephant Man   \n",
       "\n",
       "      imdbID  imdbRating  Metascore   Box_office  imdbVotes  Runtime  \\\n",
       "0  tt0080684         8.8       79.0  290158751.0   799579.0    124.0   \n",
       "1  tt0080339         7.8        NaN   83400000.0   154994.0     88.0   \n",
       "2  tt0080455         7.9        NaN   54200000.0   138196.0    133.0   \n",
       "3  tt0081505         8.4       61.0          NaN   584323.0    146.0   \n",
       "4  tt0080678         8.2        NaN          NaN   156572.0    124.0   \n",
       "\n",
       "                                              poster  \n",
       "0  b'\\xff\\xd8\\xff\\xe0\\x00\\x10JFIF\\x00\\x01\\x01\\x00...  \n",
       "1  b'\\xff\\xd8\\xff\\xe0\\x00\\x10JFIF\\x00\\x01\\x01\\x00...  \n",
       "2  b'\\xff\\xd8\\xff\\xe0\\x00\\x10JFIF\\x00\\x01\\x01\\x00...  \n",
       "3  b'\\xff\\xd8\\xff\\xe0\\x00\\x10JFIF\\x00\\x01\\x01\\x00...  \n",
       "4  b'\\xff\\xd8\\xff\\xe0\\x00\\x10JFIF\\x00\\x01\\x01\\x00...  "
      ],
      "text/html": [
       "<div>\n",
       "<style scoped>\n",
       "    .dataframe tbody tr th:only-of-type {\n",
       "        vertical-align: middle;\n",
       "    }\n",
       "\n",
       "    .dataframe tbody tr th {\n",
       "        vertical-align: top;\n",
       "    }\n",
       "\n",
       "    .dataframe thead th {\n",
       "        text-align: right;\n",
       "    }\n",
       "</style>\n",
       "<table border=\"1\" class=\"dataframe\">\n",
       "  <thead>\n",
       "    <tr style=\"text-align: right;\">\n",
       "      <th></th>\n",
       "      <th>Actors</th>\n",
       "      <th>Awards</th>\n",
       "      <th>Country</th>\n",
       "      <th>Director</th>\n",
       "      <th>Genre</th>\n",
       "      <th>Language</th>\n",
       "      <th>Rated</th>\n",
       "      <th>Released</th>\n",
       "      <th>Title</th>\n",
       "      <th>imdbID</th>\n",
       "      <th>imdbRating</th>\n",
       "      <th>Metascore</th>\n",
       "      <th>Box_office</th>\n",
       "      <th>imdbVotes</th>\n",
       "      <th>Runtime</th>\n",
       "      <th>poster</th>\n",
       "    </tr>\n",
       "  </thead>\n",
       "  <tbody>\n",
       "    <tr>\n",
       "      <th>0</th>\n",
       "      <td>[Mark Hamill, Harrison Ford, Carrie Fisher, Bi...</td>\n",
       "      <td>Won 1 Oscar. Another 15 wins &amp; 18 nominations.</td>\n",
       "      <td>[USA]</td>\n",
       "      <td>[Irvin Kershner]</td>\n",
       "      <td>[Action, Adventure, Fantasy]</td>\n",
       "      <td>[English]</td>\n",
       "      <td>[PG]</td>\n",
       "      <td>1980-06-20</td>\n",
       "      <td>Star Wars: Episode V - The Empire Strikes Back</td>\n",
       "      <td>tt0080684</td>\n",
       "      <td>8.8</td>\n",
       "      <td>79.0</td>\n",
       "      <td>290158751.0</td>\n",
       "      <td>799579.0</td>\n",
       "      <td>124.0</td>\n",
       "      <td>b'\\xff\\xd8\\xff\\xe0\\x00\\x10JFIF\\x00\\x01\\x01\\x00...</td>\n",
       "    </tr>\n",
       "    <tr>\n",
       "      <th>1</th>\n",
       "      <td>[Kareem Abdul-Jabbar, Lloyd Bridges, Peter Gra...</td>\n",
       "      <td>Nominated for 1 Golden Globe. Another 2 wins &amp;...</td>\n",
       "      <td>[USA]</td>\n",
       "      <td>[Jim Abrahams, David Zucker, Jerry Zucker]</td>\n",
       "      <td>[Comedy]</td>\n",
       "      <td>[English]</td>\n",
       "      <td>[PG]</td>\n",
       "      <td>1980-07-02</td>\n",
       "      <td>Airplane!</td>\n",
       "      <td>tt0080339</td>\n",
       "      <td>7.8</td>\n",
       "      <td>NaN</td>\n",
       "      <td>83400000.0</td>\n",
       "      <td>154994.0</td>\n",
       "      <td>88.0</td>\n",
       "      <td>b'\\xff\\xd8\\xff\\xe0\\x00\\x10JFIF\\x00\\x01\\x01\\x00...</td>\n",
       "    </tr>\n",
       "    <tr>\n",
       "      <th>2</th>\n",
       "      <td>[John Belushi, Dan Aykroyd, James Brown, Cab C...</td>\n",
       "      <td>1 win.</td>\n",
       "      <td>[USA]</td>\n",
       "      <td>[John Landis]</td>\n",
       "      <td>[Action, Comedy, Crime]</td>\n",
       "      <td>[English]</td>\n",
       "      <td>[R]</td>\n",
       "      <td>1980-06-20</td>\n",
       "      <td>The Blues Brothers</td>\n",
       "      <td>tt0080455</td>\n",
       "      <td>7.9</td>\n",
       "      <td>NaN</td>\n",
       "      <td>54200000.0</td>\n",
       "      <td>138196.0</td>\n",
       "      <td>133.0</td>\n",
       "      <td>b'\\xff\\xd8\\xff\\xe0\\x00\\x10JFIF\\x00\\x01\\x01\\x00...</td>\n",
       "    </tr>\n",
       "    <tr>\n",
       "      <th>3</th>\n",
       "      <td>[Jack Nicholson, Shelley Duvall, Danny Lloyd, ...</td>\n",
       "      <td>3 wins &amp; 5 nominations.</td>\n",
       "      <td>[USA, UK]</td>\n",
       "      <td>[Stanley Kubrick]</td>\n",
       "      <td>[Drama, Horror]</td>\n",
       "      <td>[English]</td>\n",
       "      <td>[R]</td>\n",
       "      <td>1980-05-23</td>\n",
       "      <td>The Shining</td>\n",
       "      <td>tt0081505</td>\n",
       "      <td>8.4</td>\n",
       "      <td>61.0</td>\n",
       "      <td>NaN</td>\n",
       "      <td>584323.0</td>\n",
       "      <td>146.0</td>\n",
       "      <td>b'\\xff\\xd8\\xff\\xe0\\x00\\x10JFIF\\x00\\x01\\x01\\x00...</td>\n",
       "    </tr>\n",
       "    <tr>\n",
       "      <th>4</th>\n",
       "      <td>[Anthony Hopkins, John Hurt, Anne Bancroft, Jo...</td>\n",
       "      <td>Nominated for 8 Oscars. Another 10 wins &amp; 14 n...</td>\n",
       "      <td>[USA, UK]</td>\n",
       "      <td>[David Lynch]</td>\n",
       "      <td>[Biography, Drama]</td>\n",
       "      <td>[English]</td>\n",
       "      <td>[PG]</td>\n",
       "      <td>1980-10-10</td>\n",
       "      <td>The Elephant Man</td>\n",
       "      <td>tt0080678</td>\n",
       "      <td>8.2</td>\n",
       "      <td>NaN</td>\n",
       "      <td>NaN</td>\n",
       "      <td>156572.0</td>\n",
       "      <td>124.0</td>\n",
       "      <td>b'\\xff\\xd8\\xff\\xe0\\x00\\x10JFIF\\x00\\x01\\x01\\x00...</td>\n",
       "    </tr>\n",
       "  </tbody>\n",
       "</table>\n",
       "</div>"
      ]
     },
     "metadata": {},
     "output_type": "display_data"
    }
   ],
   "execution_count": 2
  },
  {
   "cell_type": "markdown",
   "metadata": {},
   "source": [
    "The features are the following:\n",
    "\n",
    "|Column|Description|Type|\n",
    "|:---|:---|:---|\n",
    "|Actors| Actors staring | list of strings|\n",
    "|Awards| Awards received| string|\n",
    "|Country| Country of origin| list of strings|\n",
    "|Director| Director(s) of the movie|  list of strings|\n",
    "|Genre| Genres (Action, ...) | list of strings|\n",
    "|Language| Language(s) spoken |list of strings|\n",
    "|Rated| Public rating (G = General, R = Restricted, ...)| list of strings|\n",
    "|Released| Date of the movie| date|\n",
    "|Title|Title of the movie|string|\n",
    "|imdbID| IMDB id| string|\n",
    "|imdbRating| IMDB rating (between 0 and 10)| float|\n",
    "|Metascore| Metacritic score (between 0 and 100)|float|\n",
    "|Box_office| Total money generated|float|\n",
    "|imdbVotes| Number of IMDB votes| float|\n",
    "|Runtime| Duration of the movie (in minutes)|float|\n",
    "|poster| Poster of the movie (jpg)| binary string|"
   ]
  },
  {
   "cell_type": "code",
   "metadata": {
    "ExecuteTime": {
     "end_time": "2025-01-17T16:16:04.036692Z",
     "start_time": "2025-01-17T16:16:04.022172Z"
    }
   },
   "source": [
    "# Display the posters\n",
    "\n",
    "def get_poster(k, scale=1):\n",
    "    return Image(\n",
    "        value = catalogue.loc[k].poster,\n",
    "        format = 'jpg',\n",
    "        width = 130 * scale,\n",
    "        height = 200 * scale,\n",
    "    )\n",
    "\n",
    "def display_posters(index=None, n_col=5, n_rows=4):\n",
    "    if index is None:\n",
    "        index = np.arange(len(catalogue))\n",
    "    if len(index):\n",
    "        n_rows = min(n_rows, int(np.ceil(len(index) / n_col)))\n",
    "        grid = GridspecLayout(n_rows, n_col)\n",
    "        k = 0\n",
    "        for i in range(n_rows):\n",
    "            for j in range(n_col):\n",
    "                if k < len(index):\n",
    "                    grid[i, j] = get_poster(index[k])\n",
    "                k += 1 \n",
    "        return grid"
   ],
   "outputs": [],
   "execution_count": 3
  },
  {
   "cell_type": "code",
   "metadata": {
    "ExecuteTime": {
     "end_time": "2025-01-17T16:16:04.160479Z",
     "start_time": "2025-01-17T16:16:04.074912Z"
    }
   },
   "source": [
    "display_posters()"
   ],
   "outputs": [
    {
     "data": {
      "text/plain": [
       "GridspecLayout(children=(Image(value=b'\\xff\\xd8\\xff\\xe0\\x00\\x10JFIF\\x00\\x01\\x01\\x00\\x00\\x01\\x00\\x01\\x00\\x00\\xf…"
      ],
      "application/vnd.jupyter.widget-view+json": {
       "version_major": 2,
       "version_minor": 0,
       "model_id": "4276b9f2c1684f649090e462e0563b5c"
      }
     },
     "metadata": {},
     "output_type": "display_data"
    }
   ],
   "execution_count": 4
  },
  {
   "cell_type": "markdown",
   "metadata": {},
   "source": [
    "## Features\n",
    "\n",
    "We will describe each movie by some features, for instance its genre."
   ]
  },
  {
   "cell_type": "code",
   "metadata": {
    "ExecuteTime": {
     "end_time": "2025-01-17T16:16:04.207592Z",
     "start_time": "2025-01-17T16:16:04.178011Z"
    }
   },
   "source": [
    "mlb = MultiLabelBinarizer()\n",
    "movies = pd.DataFrame(mlb.fit_transform(catalogue['Genre']), columns=mlb.classes_)\n",
    "display(movies.head())\n",
    "print(movies.columns)"
   ],
   "outputs": [
    {
     "data": {
      "text/plain": [
       "   Action  Adventure  Animation  Biography  Comedy  Crime  Documentary  Drama  \\\n",
       "0       1          1          0          0       0      0            0      0   \n",
       "1       0          0          0          0       1      0            0      0   \n",
       "2       1          0          0          0       1      1            0      0   \n",
       "3       0          0          0          0       0      0            0      1   \n",
       "4       0          0          0          1       0      0            0      1   \n",
       "\n",
       "   Family  Fantasy  ...  Horror  Music  Musical  Mystery  Romance  Sci-Fi  \\\n",
       "0       0        1  ...       0      0        0        0        0       0   \n",
       "1       0        0  ...       0      0        0        0        0       0   \n",
       "2       0        0  ...       0      0        0        0        0       0   \n",
       "3       0        0  ...       1      0        0        0        0       0   \n",
       "4       0        0  ...       0      0        0        0        0       0   \n",
       "\n",
       "   Sport  Thriller  War  Western  \n",
       "0      0         0    0        0  \n",
       "1      0         0    0        0  \n",
       "2      0         0    0        0  \n",
       "3      0         0    0        0  \n",
       "4      0         0    0        0  \n",
       "\n",
       "[5 rows x 21 columns]"
      ],
      "text/html": [
       "<div>\n",
       "<style scoped>\n",
       "    .dataframe tbody tr th:only-of-type {\n",
       "        vertical-align: middle;\n",
       "    }\n",
       "\n",
       "    .dataframe tbody tr th {\n",
       "        vertical-align: top;\n",
       "    }\n",
       "\n",
       "    .dataframe thead th {\n",
       "        text-align: right;\n",
       "    }\n",
       "</style>\n",
       "<table border=\"1\" class=\"dataframe\">\n",
       "  <thead>\n",
       "    <tr style=\"text-align: right;\">\n",
       "      <th></th>\n",
       "      <th>Action</th>\n",
       "      <th>Adventure</th>\n",
       "      <th>Animation</th>\n",
       "      <th>Biography</th>\n",
       "      <th>Comedy</th>\n",
       "      <th>Crime</th>\n",
       "      <th>Documentary</th>\n",
       "      <th>Drama</th>\n",
       "      <th>Family</th>\n",
       "      <th>Fantasy</th>\n",
       "      <th>...</th>\n",
       "      <th>Horror</th>\n",
       "      <th>Music</th>\n",
       "      <th>Musical</th>\n",
       "      <th>Mystery</th>\n",
       "      <th>Romance</th>\n",
       "      <th>Sci-Fi</th>\n",
       "      <th>Sport</th>\n",
       "      <th>Thriller</th>\n",
       "      <th>War</th>\n",
       "      <th>Western</th>\n",
       "    </tr>\n",
       "  </thead>\n",
       "  <tbody>\n",
       "    <tr>\n",
       "      <th>0</th>\n",
       "      <td>1</td>\n",
       "      <td>1</td>\n",
       "      <td>0</td>\n",
       "      <td>0</td>\n",
       "      <td>0</td>\n",
       "      <td>0</td>\n",
       "      <td>0</td>\n",
       "      <td>0</td>\n",
       "      <td>0</td>\n",
       "      <td>1</td>\n",
       "      <td>...</td>\n",
       "      <td>0</td>\n",
       "      <td>0</td>\n",
       "      <td>0</td>\n",
       "      <td>0</td>\n",
       "      <td>0</td>\n",
       "      <td>0</td>\n",
       "      <td>0</td>\n",
       "      <td>0</td>\n",
       "      <td>0</td>\n",
       "      <td>0</td>\n",
       "    </tr>\n",
       "    <tr>\n",
       "      <th>1</th>\n",
       "      <td>0</td>\n",
       "      <td>0</td>\n",
       "      <td>0</td>\n",
       "      <td>0</td>\n",
       "      <td>1</td>\n",
       "      <td>0</td>\n",
       "      <td>0</td>\n",
       "      <td>0</td>\n",
       "      <td>0</td>\n",
       "      <td>0</td>\n",
       "      <td>...</td>\n",
       "      <td>0</td>\n",
       "      <td>0</td>\n",
       "      <td>0</td>\n",
       "      <td>0</td>\n",
       "      <td>0</td>\n",
       "      <td>0</td>\n",
       "      <td>0</td>\n",
       "      <td>0</td>\n",
       "      <td>0</td>\n",
       "      <td>0</td>\n",
       "    </tr>\n",
       "    <tr>\n",
       "      <th>2</th>\n",
       "      <td>1</td>\n",
       "      <td>0</td>\n",
       "      <td>0</td>\n",
       "      <td>0</td>\n",
       "      <td>1</td>\n",
       "      <td>1</td>\n",
       "      <td>0</td>\n",
       "      <td>0</td>\n",
       "      <td>0</td>\n",
       "      <td>0</td>\n",
       "      <td>...</td>\n",
       "      <td>0</td>\n",
       "      <td>0</td>\n",
       "      <td>0</td>\n",
       "      <td>0</td>\n",
       "      <td>0</td>\n",
       "      <td>0</td>\n",
       "      <td>0</td>\n",
       "      <td>0</td>\n",
       "      <td>0</td>\n",
       "      <td>0</td>\n",
       "    </tr>\n",
       "    <tr>\n",
       "      <th>3</th>\n",
       "      <td>0</td>\n",
       "      <td>0</td>\n",
       "      <td>0</td>\n",
       "      <td>0</td>\n",
       "      <td>0</td>\n",
       "      <td>0</td>\n",
       "      <td>0</td>\n",
       "      <td>1</td>\n",
       "      <td>0</td>\n",
       "      <td>0</td>\n",
       "      <td>...</td>\n",
       "      <td>1</td>\n",
       "      <td>0</td>\n",
       "      <td>0</td>\n",
       "      <td>0</td>\n",
       "      <td>0</td>\n",
       "      <td>0</td>\n",
       "      <td>0</td>\n",
       "      <td>0</td>\n",
       "      <td>0</td>\n",
       "      <td>0</td>\n",
       "    </tr>\n",
       "    <tr>\n",
       "      <th>4</th>\n",
       "      <td>0</td>\n",
       "      <td>0</td>\n",
       "      <td>0</td>\n",
       "      <td>1</td>\n",
       "      <td>0</td>\n",
       "      <td>0</td>\n",
       "      <td>0</td>\n",
       "      <td>1</td>\n",
       "      <td>0</td>\n",
       "      <td>0</td>\n",
       "      <td>...</td>\n",
       "      <td>0</td>\n",
       "      <td>0</td>\n",
       "      <td>0</td>\n",
       "      <td>0</td>\n",
       "      <td>0</td>\n",
       "      <td>0</td>\n",
       "      <td>0</td>\n",
       "      <td>0</td>\n",
       "      <td>0</td>\n",
       "      <td>0</td>\n",
       "    </tr>\n",
       "  </tbody>\n",
       "</table>\n",
       "<p>5 rows × 21 columns</p>\n",
       "</div>"
      ]
     },
     "metadata": {},
     "output_type": "display_data"
    },
    {
     "name": "stdout",
     "output_type": "stream",
     "text": [
      "Index(['Action', 'Adventure', 'Animation', 'Biography', 'Comedy', 'Crime',\n",
      "       'Documentary', 'Drama', 'Family', 'Fantasy', 'History', 'Horror',\n",
      "       'Music', 'Musical', 'Mystery', 'Romance', 'Sci-Fi', 'Sport', 'Thriller',\n",
      "       'War', 'Western'],\n",
      "      dtype='object')\n"
     ]
    }
   ],
   "execution_count": 5
  },
  {
   "cell_type": "markdown",
   "metadata": {},
   "source": [
    "## User\n",
    "\n",
    "Each user will be modeled by a vector of weights (positive or negative) on each feature. "
   ]
  },
  {
   "cell_type": "code",
   "metadata": {
    "ExecuteTime": {
     "end_time": "2025-01-17T16:16:04.269123Z",
     "start_time": "2025-01-17T16:16:04.255602Z"
    }
   },
   "source": [
    "user1 = pd.DataFrame(0, index = [0], columns=movies.columns)\n",
    "user1['Action'] = 2\n",
    "user1['Crime'] = 1\n",
    "user1['Sci-Fi'] = -2\n",
    "\n",
    "user2 = pd.DataFrame(0, index = [0], columns=movies.columns)\n",
    "user2['Action'] = 1\n",
    "user2['Crime'] = 2\n",
    "user2['Sci-Fi'] = -1\n",
    "user2['Drama'] = 1\n",
    "user2['Thriller'] = 1"
   ],
   "outputs": [],
   "execution_count": 6
  },
  {
   "cell_type": "markdown",
   "metadata": {},
   "source": [
    "## To do\n",
    "\n",
    "* Display the favorite movies of this user. \n",
    "* Test another user, and quantify their similarity (e.g., proportion of common top-100 movies)."
   ]
  },
  {
   "metadata": {
    "ExecuteTime": {
     "end_time": "2025-01-17T16:16:04.345146Z",
     "start_time": "2025-01-17T16:16:04.334889Z"
    }
   },
   "cell_type": "code",
   "source": [
    "def favorite_movies(user: pd.DataFrame):\n",
    "    \"\"\"Return the favorite movies of a user in the catalogue, using the user's weights.\"\"\"\n",
    "    favorites = (\n",
    "        (movies @ user.T).rename(columns={0: 'score'})\n",
    "        .sample(frac=1).sort_values('score', ascending=False)\n",
    "        .join(catalogue, how='inner')\n",
    "    )\n",
    "    return favorites\n",
    "\n",
    "def similarity(user1: pd.DataFrame, user2: pd.DataFrame, top=100):\n",
    "    \"\"\"Return the similarity between two users, as the proportion of common top-n movies.\"\"\"\n",
    "    favorites1 = favorite_movies(user1).imdbID.head(n=top)\n",
    "    favorites2 = favorite_movies(user2).imdbID.head(n=top)\n",
    "    return len(set(favorites1) & set(favorites2)) / 100\n"
   ],
   "outputs": [],
   "execution_count": 7
  },
  {
   "metadata": {
    "ExecuteTime": {
     "end_time": "2025-01-17T16:16:04.641499Z",
     "start_time": "2025-01-17T16:16:04.409157Z"
    }
   },
   "cell_type": "code",
   "source": [
    "print(\"--- User 1 ---\")\n",
    "favorite_movies_user1 = favorite_movies(user1)\n",
    "display(display_posters(favorite_movies_user1[:20].index))\n",
    "\n",
    "print(\"--- User 2 ---\")\n",
    "favorite_movies_user2 = favorite_movies(user2)\n",
    "display(display_posters(favorite_movies_user2[:20].index))\n",
    "\n",
    "print(\"--- Similarity ---\")\n",
    "print(f\"The similarity between the two users over 100 movies is {similarity(user1, user2, top=100):.2f}.\")\n"
   ],
   "outputs": [
    {
     "name": "stdout",
     "output_type": "stream",
     "text": [
      "--- User 1 ---\n"
     ]
    },
    {
     "data": {
      "text/plain": [
       "GridspecLayout(children=(Image(value=b'\\xff\\xd8\\xff\\xe0\\x00\\x10JFIF\\x00\\x01\\x01\\x00\\x00\\x01\\x00\\x01\\x00\\x00\\xf…"
      ],
      "application/vnd.jupyter.widget-view+json": {
       "version_major": 2,
       "version_minor": 0,
       "model_id": "2586eab5219a481685985abd86fbac09"
      }
     },
     "metadata": {},
     "output_type": "display_data"
    },
    {
     "name": "stdout",
     "output_type": "stream",
     "text": [
      "--- User 2 ---\n"
     ]
    },
    {
     "data": {
      "text/plain": [
       "GridspecLayout(children=(Image(value=b'\\xff\\xd8\\xff\\xe0\\x00\\x10JFIF\\x00\\x01\\x01\\x00\\x00\\x01\\x00\\x01\\x00\\x00\\xf…"
      ],
      "application/vnd.jupyter.widget-view+json": {
       "version_major": 2,
       "version_minor": 0,
       "model_id": "0d2953fa584242f8908ebc870e758036"
      }
     },
     "metadata": {},
     "output_type": "display_data"
    },
    {
     "name": "stdout",
     "output_type": "stream",
     "text": [
      "--- Similarity ---\n",
      "The similarity between the two users over 100 movies is 0.60.\n"
     ]
    }
   ],
   "execution_count": 8
  },
  {
   "cell_type": "markdown",
   "metadata": {},
   "source": [
    "## Offline learning\n",
    "\n",
    "We start with offline learning. There are 2 steps: \n",
    "1. Collect the user's opinion on a few movies (e.g., 10)\n",
    "2. Rank the other movies by logistic regression.\n",
    "\n",
    "Let's test that."
   ]
  },
  {
   "cell_type": "code",
   "metadata": {},
   "source": [
    "# Add a column to record the user's opinion (like / dislike)\n",
    "movies = movies.assign(like=None)"
   ],
   "outputs": [],
   "execution_count": 9
  },
  {
   "cell_type": "code",
   "metadata": {
    "ExecuteTime": {
     "end_time": "2025-01-17T16:16:04.720857Z",
     "start_time": "2025-01-17T16:16:04.705780Z"
    }
   },
   "source": [
    "# Select a random movie (not yet seen by the user)\n",
    "def select_random_movie():\n",
    "    index = np.flatnonzero(movies.like.isna())\n",
    "    if len(index):\n",
    "        return np.random.choice(index)\n",
    "    else:\n",
    "        return np.random.choice(len(movies))\n",
    "\n",
    "# Create buttons\n",
    "def create_expanded_button(description, button_style):\n",
    "    return Button(\n",
    "        description=description,\n",
    "        button_style=button_style,\n",
    "        layout=Layout())\n",
    "\n",
    "def update_likes(button):\n",
    "    global movie_id\n",
    "    if button.description == 'like':\n",
    "        movies.loc[movie_id, 'like'] = True\n",
    "    elif button.description == 'dislike':\n",
    "        movies.loc[movie_id, 'like'] = False\n",
    "    else:\n",
    "        movies.loc[movie_id, 'like'] = None\n",
    "\n",
    "def update_poster():\n",
    "    global movie_id\n",
    "    img.value = catalogue.loc[movie_id].poster\n",
    "\n",
    "def on_button_clicked(button):\n",
    "    global movie_id\n",
    "    update_likes(button)\n",
    "    movie_id = select_random_movie()\n",
    "    update_poster()"
   ],
   "outputs": [],
   "execution_count": 10
  },
  {
   "cell_type": "code",
   "metadata": {
    "scrolled": true,
    "ExecuteTime": {
     "end_time": "2025-01-17T16:16:04.814978Z",
     "start_time": "2025-01-17T16:16:04.769099Z"
    }
   },
   "source": [
    "# Setting the buttons\n",
    "left_button = create_expanded_button('like', 'success')\n",
    "right_button = create_expanded_button('dislike', 'danger')\n",
    "up_button = create_expanded_button('unknown', 'info')\n",
    "left_button.on_click(on_button_clicked)\n",
    "right_button.on_click(on_button_clicked)\n",
    "up_button.on_click(on_button_clicked)\n",
    "\n",
    "# Setting the movie poster\n",
    "movies = movies.assign(like=None)\n",
    "movie_id = select_random_movie()\n",
    "img = get_poster(movie_id, scale=1.5)\n",
    "\n",
    "# Display\n",
    "AppLayout(\n",
    "    left_sidebar=VBox([left_button], layout=Layout(align_items='center')),\n",
    "    right_sidebar=VBox([right_button], layout=Layout(align_items='center')),\n",
    "    center=VBox([up_button, img], layout=Layout(align_items='center')),\n",
    "    pane_widths=[0.3, 0.4, 0.3]\n",
    ")"
   ],
   "outputs": [
    {
     "data": {
      "text/plain": [
       "AppLayout(children=(VBox(children=(Button(button_style='success', description='like', style=ButtonStyle()),), …"
      ],
      "application/vnd.jupyter.widget-view+json": {
       "version_major": 2,
       "version_minor": 0,
       "model_id": "3bdbdf75f0ac4af391682572c5def4f4"
      }
     },
     "metadata": {},
     "output_type": "display_data"
    }
   ],
   "execution_count": 11
  },
  {
   "cell_type": "markdown",
   "metadata": {},
   "source": [
    "## To do\n",
    "\n",
    "* Give your opinion on some movies (e.g., 10), making sure that you get a few likes and a few dislikes.\n",
    "* Apply logistic regression and display the other movies in order of preference (top movies first).\n",
    "* Give your top-3 and bottom-3 genres, as predicted by the model."
   ]
  },
  {
   "metadata": {
    "ExecuteTime": {
     "end_time": "2025-01-17T16:16:04.906770Z",
     "start_time": "2025-01-17T16:16:04.892298Z"
    }
   },
   "cell_type": "code",
   "source": [
    "# Save the user's likes\n",
    "movies = movies.assign(like=None)\n",
    "for index in [50, 51, 127, 139, 160, 174, 229, 326, 333, 340, 378, 433, 468, 506,\n",
    "            938, 1036]:\n",
    "    movies.loc[index, 'like'] = True\n",
    "for index in [73,  106,  172,  219,  228,  240,  297,  336,  356,  383,  458,\n",
    "             511,  540,  603,  639,  661,  735,  771,  794,  810,  870,  890,\n",
    "             931,  959,  999, 1032]:\n",
    "    movies.loc[index, 'like'] = False"
   ],
   "outputs": [],
   "execution_count": 12
  },
  {
   "cell_type": "code",
   "metadata": {
    "ExecuteTime": {
     "end_time": "2025-01-17T16:16:04.985105Z",
     "start_time": "2025-01-17T16:16:04.912157Z"
    }
   },
   "source": [
    "# likes\n",
    "likes = np.flatnonzero(movies.like==True)\n",
    "display_posters(likes)"
   ],
   "outputs": [
    {
     "data": {
      "text/plain": [
       "GridspecLayout(children=(Image(value=b'\\xff\\xd8\\xff\\xe0\\x00\\x10JFIF\\x00\\x01\\x01\\x00\\x00\\x01\\x00\\x01\\x00\\x00\\xf…"
      ],
      "application/vnd.jupyter.widget-view+json": {
       "version_major": 2,
       "version_minor": 0,
       "model_id": "56512c7b22fd473da24d7d4e8b9a4e52"
      }
     },
     "metadata": {},
     "output_type": "display_data"
    }
   ],
   "execution_count": 13
  },
  {
   "cell_type": "code",
   "metadata": {
    "ExecuteTime": {
     "end_time": "2025-01-17T16:16:05.108889Z",
     "start_time": "2025-01-17T16:16:05.033283Z"
    }
   },
   "source": [
    "# dislikes\n",
    "dislikes = np.flatnonzero(movies.like==False)\n",
    "display_posters(dislikes)"
   ],
   "outputs": [
    {
     "data": {
      "text/plain": [
       "GridspecLayout(children=(Image(value=b'\\xff\\xd8\\xff\\xe0\\x00\\x10JFIF\\x00\\x01\\x01\\x00\\x00\\x01\\x00\\x01\\x00\\x00\\xf…"
      ],
      "application/vnd.jupyter.widget-view+json": {
       "version_major": 2,
       "version_minor": 0,
       "model_id": "f3bbabedc1774036beae1e1a660521ea"
      }
     },
     "metadata": {},
     "output_type": "display_data"
    }
   ],
   "execution_count": 14
  },
  {
   "cell_type": "code",
   "metadata": {
    "ExecuteTime": {
     "end_time": "2025-01-17T16:16:05.356002Z",
     "start_time": "2025-01-17T16:16:05.156471Z"
    }
   },
   "source": [
    "model = LogisticRegression(fit_intercept=False)\n",
    "\n",
    "# fit the model on the movies seen by the user\n",
    "X = movies[movies.like.notna()].drop(columns=['like'])\n",
    "y = movies[movies.like.notna()].like == True\n",
    "model.fit(X, y)\n",
    "\n",
    "# predict the likes of the other movies\n",
    "movies['prediction'] = model.predict_proba(movies.drop(columns='like'))[:, 1]\n",
    "\n",
    "# display the movies in order of preference for unseen movies\n",
    "print(\"--- Top suggestions ---\")\n",
    "display(display_posters(movies[movies.like.isna()].sort_values('prediction', ascending=False).index))\n",
    "print(\"\\n--- Bottom suggestions ---\")\n",
    "display(display_posters(movies[movies.like.isna()].sort_values('prediction', ascending=True).index))\n",
    "\n",
    "# top-3 and bottom-3 genres\n",
    "top_genres = movies.drop(columns=['like', 'prediction']).columns[np.argsort(model.coef_.flatten())[-3:]]\n",
    "bottom_genres = movies.drop(columns=['like', 'prediction']).columns[np.argsort(model.coef_.flatten())[:3]]\n",
    "print(f\"\\n--- Top genres ----\\n{', '.join(top_genres)}\")\n",
    "print(f\"\\n--- Bottom genres ---\\n{', '.join(bottom_genres)}\")\n"
   ],
   "outputs": [
    {
     "name": "stdout",
     "output_type": "stream",
     "text": [
      "--- Top suggestions ---\n"
     ]
    },
    {
     "data": {
      "text/plain": [
       "GridspecLayout(children=(Image(value=b'\\xff\\xd8\\xff\\xe0\\x00\\x10JFIF\\x00\\x01\\x01\\x00\\x00\\x01\\x00\\x01\\x00\\x00\\xf…"
      ],
      "application/vnd.jupyter.widget-view+json": {
       "version_major": 2,
       "version_minor": 0,
       "model_id": "b90b6b789e4d4e63b6540dcd906f43b0"
      }
     },
     "metadata": {},
     "output_type": "display_data"
    },
    {
     "name": "stdout",
     "output_type": "stream",
     "text": [
      "\n",
      "--- Bottom suggestions ---\n"
     ]
    },
    {
     "data": {
      "text/plain": [
       "GridspecLayout(children=(Image(value=b'\\xff\\xd8\\xff\\xe0\\x00\\x10JFIF\\x00\\x01\\x01\\x00\\x00\\x01\\x00\\x01\\x00\\x00\\xf…"
      ],
      "application/vnd.jupyter.widget-view+json": {
       "version_major": 2,
       "version_minor": 0,
       "model_id": "2ab30b9fca8344928d3a3c938be7decd"
      }
     },
     "metadata": {},
     "output_type": "display_data"
    },
    {
     "name": "stdout",
     "output_type": "stream",
     "text": [
      "\n",
      "--- Top genres ----\n",
      "Mystery, Fantasy, Biography\n",
      "\n",
      "--- Bottom genres ---\n",
      "Horror, Romance, Comedy\n"
     ]
    }
   ],
   "execution_count": 15
  },
  {
   "cell_type": "markdown",
   "metadata": {},
   "source": "## Online learning"
  },
  {
   "cell_type": "markdown",
   "metadata": {},
   "source": [
    "We now learn the user preferences online, as they come. For that, we use a Bayesian algorithm inspired by Thompson sampling. \n",
    "\n",
    "On each feedback provided by the user:\n",
    "1. (Learning) The parameter (vector of weights) is learned.\n",
    "2. (Sampling) A new parameter is sampled, assuming a Gaussian distribution.\n",
    "3. (Action) The top movie for this new parameter, among movies not yet seen by the user, is proposed. \n",
    "\n",
    "Note that:\n",
    "* In step 1, we retrain the estimator **from scratch**, using logistic regression on all training data samples (**no** online estimation).\n",
    "* In step 2, we discard correlations (**diagonal** covariance matrix)."
   ]
  },
  {
   "cell_type": "markdown",
   "metadata": {},
   "source": [
    "## To do\n",
    "\n",
    "* Complete the function ``select_bayes`` below.\n",
    "* Test it on some movies (e.g., 10), until you get a few likes and a few dislikes.\n",
    "* Display the other movies in order of preference (top movies first)."
   ]
  },
  {
   "cell_type": "code",
   "metadata": {
    "ExecuteTime": {
     "end_time": "2025-01-17T16:16:05.417876Z",
     "start_time": "2025-01-17T16:16:05.404310Z"
    }
   },
   "source": [
    "def select_bayes():\n",
    "\n",
    "    if set(movies.like) == {True, False, None}:\n",
    "        # Step 1: learning\n",
    "        X = movies[movies.like.notna()].drop(columns='like')\n",
    "        y = movies[movies.like.notna()].like == True\n",
    "        model = LogisticRegression(fit_intercept=False)\n",
    "        model.fit(X, y)\n",
    "\n",
    "        # Step 2: sampling\n",
    "        theta_hat = model.coef_.flatten()\n",
    "        sigma = np.full_like(theta_hat, 0.1)\n",
    "        theta_sampled = np.random.normal(theta_hat, sigma)\n",
    "\n",
    "        # Step 3: action\n",
    "        unseen_movies = movies[movies.like.isna()].drop(columns='like')\n",
    "        scores = unseen_movies @ theta_sampled\n",
    "        top_movie_ids = scores.idxmax()\n",
    "\n",
    "        return top_movie_ids\n",
    "    \n",
    "    else:\n",
    "        return select_random_movie()\n",
    "\n",
    "def on_button_clicked(button):\n",
    "    global movie_id\n",
    "    update_likes(button)\n",
    "    movie_id = select_bayes()\n",
    "    update_poster()"
   ],
   "outputs": [],
   "execution_count": 16
  },
  {
   "cell_type": "code",
   "metadata": {
    "ExecuteTime": {
     "end_time": "2025-01-17T16:16:05.556458Z",
     "start_time": "2025-01-17T16:16:05.511940Z"
    }
   },
   "source": [
    "# reset\n",
    "movies = movies.assign(like=None)\n",
    "movies = movies.assign(prediction=None).drop(columns='prediction')\n",
    "\n",
    "# Setting the buttons\n",
    "left_button = create_expanded_button('like', 'success')\n",
    "right_button = create_expanded_button('dislike', 'danger')\n",
    "left_button.on_click(on_button_clicked)\n",
    "right_button.on_click(on_button_clicked)\n",
    "\n",
    "# Setting the movie poster\n",
    "movie_id = select_random_movie()\n",
    "img = get_poster(movie_id, scale=1.5)\n",
    "\n",
    "# Display\n",
    "AppLayout(\n",
    "    left_sidebar=VBox([left_button], layout=Layout(align_items='center')),\n",
    "    right_sidebar=VBox([right_button], layout=Layout(align_items='center')),\n",
    "    center=VBox([img], layout=Layout(align_items='center')),\n",
    "    pane_widths=[0.3, 0.4, 0.3]\n",
    ")"
   ],
   "outputs": [
    {
     "data": {
      "text/plain": [
       "AppLayout(children=(VBox(children=(Button(button_style='success', description='like', style=ButtonStyle()),), …"
      ],
      "application/vnd.jupyter.widget-view+json": {
       "version_major": 2,
       "version_minor": 0,
       "model_id": "65d5624df9674ef682fc267b94904443"
      }
     },
     "metadata": {},
     "output_type": "display_data"
    }
   ],
   "execution_count": 17
  },
  {
   "metadata": {
    "ExecuteTime": {
     "end_time": "2025-01-17T16:16:05.588232Z",
     "start_time": "2025-01-17T16:16:05.562968Z"
    }
   },
   "cell_type": "code",
   "source": [
    "# Save the user's likes\n",
    "movies = movies.assign(like=None)\n",
    "for index in [50, 51, 127, 139, 160, 174, 229, 326, 333, 340, 378, 433, 468, 506,\n",
    "            938, 1036]:\n",
    "    movies.loc[index, 'like'] = True\n",
    "for index in [73,  106,  172,  219,  228,  240,  297,  336,  356,  383,  458,\n",
    "             511,  540,  603,  639,  661,  735,  771,  794,  810,  870,  890,\n",
    "             931,  959,  999, 1032]:\n",
    "    movies.loc[index, 'like'] = False"
   ],
   "outputs": [],
   "execution_count": 18
  },
  {
   "metadata": {
    "ExecuteTime": {
     "end_time": "2025-01-17T16:16:05.650074Z",
     "start_time": "2025-01-17T16:16:05.636254Z"
    }
   },
   "cell_type": "code",
   "source": [
    "print(movies['like'].value_counts())\n",
    "print(movies[movies.like.isna()].shape[0])"
   ],
   "outputs": [
    {
     "name": "stdout",
     "output_type": "stream",
     "text": [
      "False    26\n",
      "True     16\n",
      "Name: like, dtype: int64\n",
      "995\n"
     ]
    }
   ],
   "execution_count": 19
  },
  {
   "cell_type": "markdown",
   "metadata": {},
   "source": [
    "## Analysis\n",
    "\n",
    "Finally, we would like to assess the quality of our bandit algorithm.\n",
    "\n",
    "## To do\n",
    "\n",
    "* Choose a user, that is a parameter $\\theta$ (vector of weights).\n",
    "* Provide the answers of this user to the movies proposed by the algorithm, assuming binary rewards, with mean\n",
    "$$\n",
    "q(a) = \\frac 1 {1 + e^{-\\theta^T a}}\n",
    "$$\n",
    "where $a$ is the action (= movie proposed by the algorithm).\n",
    "* Make sure that a reasonable fraction of movies are liked (e.g., between 10\\% and 90\\%). Otherwise, update $\\theta$.\n",
    "* Simulate an interaction of this user with the recommender system over 100 movies.\n",
    "* Compute the [Spearman's correlation coefficient](https://en.wikipedia.org/wiki/Spearman%27s_rank_correlation_coefficient) of the ranking of the unseen movies provided by the algorithm, compared to the ground-truth ranking.\n",
    "* Plot the evolution of this coefficient with respect to the number of movies seen by the user, from 1 to 100.\n",
    "* Give the top-3 and bottom-3 genres, as predicted by the model, and compare to the ground-truth.\n",
    "* Do the same experiments with other features (e.g., actors, actors + genres, actors + director + genres)."
   ]
  },
  {
   "cell_type": "code",
   "metadata": {
    "ExecuteTime": {
     "end_time": "2025-01-17T16:16:05.711283Z",
     "start_time": "2025-01-17T16:16:05.698892Z"
    }
   },
   "source": [
    "# Choose a user\n",
    "movies = movies.assign(like=None).drop(columns=['like'])\n",
    "user = pd.DataFrame(0, index = [0], columns=movies.columns)\n",
    "\n",
    "# simulate a child user for example\n",
    "user['Adventure'] = 1\n",
    "user['Animation'] = 5\n",
    "user['Comedy'] = 3\n",
    "user['Family'] = 2\n",
    "user['Fantasy'] = 1\n",
    "user['Drama'] = -1\n",
    "user['Horror'] = -4\n",
    "user['Mystery'] = -2\n",
    "user['Sci-Fi'] = -1\n",
    "user['Thriller'] = -2\n",
    "user['War'] = -5\n",
    "user['Western'] = -1"
   ],
   "outputs": [],
   "execution_count": 20
  },
  {
   "metadata": {
    "ExecuteTime": {
     "end_time": "2025-01-17T16:16:07.235463Z",
     "start_time": "2025-01-17T16:16:05.777132Z"
    }
   },
   "cell_type": "code",
   "source": [
    "# Binary rewards\n",
    "def binary_reward(a, theta):\n",
    "    return np.random.rand() < 1 / (1 + np.exp(-a @ theta))\n",
    "\n",
    "# Simulate an interaction\n",
    "movies = movies.assign(like=None).drop(columns=['like'])\n",
    "theta = user.values.flatten()\n",
    "ground_truth = movies.apply(lambda a: binary_reward(a, theta), axis=1)\n",
    "gt_score = pd.Series(movies.values @ theta)\n",
    "gt_rank = ground_truth.rank(ascending=False, method='first')\n",
    "print(f\"The user likes {ground_truth.mean():.0%} of the movies.\")\n",
    "\n",
    "movies = movies.assign(like=None)\n",
    "correlations = []\n",
    "for i in range(100):\n",
    "    movie_id = select_bayes()\n",
    "    movies.loc[movie_id, 'like'] = ground_truth[movie_id]\n",
    "\n",
    "    try:\n",
    "        # Get parameters of trained model\n",
    "        X = movies[movies.like.notna()].drop(columns='like')\n",
    "        y = movies[movies.like.notna()].like == True\n",
    "        model = LogisticRegression(fit_intercept=False)\n",
    "        model.fit(X, y)\n",
    "        theta_hat = model.coef_.flatten()\n",
    "        like_score = pd.Series(movies.drop(columns='like').values @ theta_hat)\n",
    "\n",
    "        # Spearman's correlation coefficient\n",
    "        like_rank = like_score.rank(ascending=False, method='first')\n",
    "        correlation = spearmanr(gt_rank, like_rank)\n",
    "        correlations.append(correlation.correlation)\n",
    "    except:\n",
    "        correlations.append(np.nan)\n",
    "\n",
    "# Plot the evolution of the correlation\n",
    "import matplotlib.pyplot as plt\n",
    "plt.plot(correlations)\n",
    "plt.xlabel('Number of movies seen')\n",
    "plt.ylabel('Spearman correlation')\n",
    "plt.title('Evolution of the correlation')\n",
    "plt.show()\n",
    "\n",
    "# Top-3 and bottom-3 genres\n",
    "top_genres = movies.drop(columns='like').columns[np.argsort(theta_hat)[-3:]]\n",
    "bottom_genres = movies.drop(columns='like').columns[np.argsort(theta_hat)[:3]]\n",
    "print(f\"\\n--- Top genres predicted----\\n{', '.join(top_genres)}\")\n",
    "print(f\"\\n--- Bottom genres predicted ---\\n{', '.join(bottom_genres)}\")\n",
    "\n",
    "# Top-3 and bottom-3 genres ground-truth\n",
    "top_genres = movies.drop(columns='like').columns[np.argsort(theta)[-3:]]\n",
    "bottom_genres = movies.drop(columns='like').columns[np.argsort(theta)[:3]]\n",
    "print(f\"\\n--- Top genres ground-truth ----\\n{', '.join(top_genres)}\")\n",
    "print(f\"\\n--- Bottom genres ground-truth ---\\n{', '.join(bottom_genres)}\")"
   ],
   "outputs": [
    {
     "name": "stdout",
     "output_type": "stream",
     "text": [
      "The user likes 51% of the movies.\n"
     ]
    },
    {
     "data": {
      "text/plain": [
       "<Figure size 432x288 with 1 Axes>"
      ],
      "image/png": "[encoded data removed]"
     },
     "metadata": {
      "needs_background": "light"
     },
     "output_type": "display_data"
    },
    {
     "name": "stdout",
     "output_type": "stream",
     "text": [
      "\n",
      "--- Top genres predicted----\n",
      "Comedy, Adventure, Family\n",
      "\n",
      "--- Bottom genres predicted ---\n",
      "Thriller, Crime, Drama\n",
      "\n",
      "--- Top genres ground-truth ----\n",
      "Family, Comedy, Animation\n",
      "\n",
      "--- Bottom genres ground-truth ---\n",
      "War, Horror, Thriller\n"
     ]
    }
   ],
   "execution_count": 21
  }
 ],
 "metadata": {
  "kernelspec": {
   "display_name": "Python 3 (ipykernel)",
   "language": "python",
   "name": "python3"
  },
  "language_info": {
   "codemirror_mode": {
    "name": "ipython",
    "version": 3
   },
   "file_extension": ".py",
   "mimetype": "text/x-python",
   "name": "python",
   "nbconvert_exporter": "python",
   "pygments_lexer": "ipython3",
   "version": "3.9.18"
  }
 },
 "nbformat": 4,
 "nbformat_minor": 4
}
