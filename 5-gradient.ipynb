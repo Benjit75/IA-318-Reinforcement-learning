{
 "cells": [
  {
   "cell_type": "markdown",
   "metadata": {},
   "source": [
    "# Reinforcement Learning\n",
    "\n",
    "# 5. Gradient Methods\n",
    "\n",
    "This notebook presents gradient methods, useful for learning in some environment with a large state space.\n",
    "\n",
    "We use a neural network with a single hidden layer."
   ]
  },
  {
   "cell_type": "code",
   "metadata": {
    "ExecuteTime": {
     "end_time": "2024-12-20T09:32:37.845729Z",
     "start_time": "2024-12-20T09:32:32.034109Z"
    }
   },
   "source": [
    "import numpy as np\n",
    "from matplotlib import pyplot as plt\n",
    "from tqdm.notebook import tqdm\n",
    "\n",
    "import torch\n",
    "import torch.nn as nn\n",
    "import torch.optim as optim\n",
    "\n",
    "from utils.agent import Agent, OnlineEvaluation\n",
    "from utils.dynamic import ValueIteration\n",
    "from utils.model import TicTacToe, Nim, ConnectFour\n",
    "\n",
    "%matplotlib inline"
   ],
   "outputs": [],
   "execution_count": 1
  },
  {
   "metadata": {
    "ExecuteTime": {
     "end_time": "2024-12-20T09:32:50.801827Z",
     "start_time": "2024-12-20T09:32:50.796304Z"
    }
   },
   "cell_type": "code",
   "source": [
    "from IPython.core.display import display, HTML\n",
    "\n",
    "def display_answer(title, answer):\n",
    "    if isinstance(answer, list):\n",
    "        string_display = f\"\"\"<div class=\"alert alert-block alert-success\"> <h1>{title}:</h1><ul>\"\"\"\n",
    "        for a in answer:\n",
    "            string_display += f\"<li>{a}</li>\"\n",
    "        string_display += \"</ul></div>\"\n",
    "    elif isinstance(answer, str):\n",
    "        string_display = f\"\"\"<div class=\"alert alert-block alert-success\"> <h1>{title}:</h1>{answer} </div>\"\"\"\n",
    "    else:\n",
    "        raise ValueError(\"Answer should be a string or a list of strings.\")\n",
    "    display(HTML(string_display))"
   ],
   "outputs": [],
   "execution_count": 2
  },
  {
   "cell_type": "markdown",
   "metadata": {},
   "source": [
    "## Value gradient"
   ]
  },
  {
   "cell_type": "markdown",
   "metadata": {},
   "source": [
    "We start with value-based methods. The neural network is a regressor that approximates the value function. Note that the model is supposed to be known, so that we don't need the action-value function."
   ]
  },
  {
   "cell_type": "code",
   "metadata": {
    "ExecuteTime": {
     "end_time": "2024-12-17T08:23:03.950866Z",
     "start_time": "2024-12-17T08:23:03.937603Z"
    }
   },
   "source": [
    "class Regressor(nn.Module):\n",
    "    \"\"\"Neural network for value function approximation. Return the value of each state.\"\"\"\n",
    "    def __init__(self, model, hidden_size):\n",
    "        if not hasattr(model, 'one_hot_encode'):\n",
    "            raise ValueError(\"The environment must have a one-hot encoding of states.\")   \n",
    "        super(Regressor, self).__init__()\n",
    "        self.model = model\n",
    "        state = model.init_state()\n",
    "        code = model.one_hot_encode(state)\n",
    "        input_size = len(code)\n",
    "        self.nn = nn.Sequential(\n",
    "            nn.Linear(input_size, hidden_size), \n",
    "            nn.GELU(), \n",
    "            nn.Linear(hidden_size, 1))\n",
    "\n",
    "    def forward(self, code):\n",
    "        \"\"\"Forward pass.\"\"\"\n",
    "        return self.nn(code)"
   ],
   "outputs": [],
   "execution_count": 3
  },
  {
   "cell_type": "code",
   "metadata": {
    "ExecuteTime": {
     "end_time": "2024-12-17T08:23:40.111093Z",
     "start_time": "2024-12-17T08:23:39.927759Z"
    }
   },
   "source": [
    "game = TicTacToe()\n",
    "regressor = Regressor(model=game, hidden_size=100)\n",
    "\n",
    "state = game.state\n",
    "# one-hot encoding\n",
    "code = game.one_hot_encode(state)\n",
    "# tensor\n",
    "code = torch.tensor(code).float()\n",
    "\n",
    "value = regressor.forward(code).detach()\n",
    "# value of the state\n",
    "print(value)"
   ],
   "outputs": [
    {
     "name": "stdout",
     "output_type": "stream",
     "text": [
      "tensor([0.0747])\n"
     ]
    }
   ],
   "execution_count": 4
  },
  {
   "cell_type": "markdown",
   "metadata": {},
   "source": [
    "## To do\n",
    "\n",
    "* Complete the method get_best_actions of the class ValueGradient. \n",
    "* Test the agent on TicTacToe, against (1) a random adversary and (2) a perfect adversary.\n",
    "* Test the agent on ConnectFour, against (1) a random adversary and (2) an adversary with the one-step policy.\n",
    "* Compare your results to another learning strategy (e.g., Monte-Carlo learning) and interpret the results."
   ]
  },
  {
   "cell_type": "code",
   "metadata": {
    "ExecuteTime": {
     "end_time": "2024-12-17T08:52:15.234669Z",
     "start_time": "2024-12-17T08:52:15.218699Z"
    }
   },
   "source": [
    "class ValueGradient(OnlineEvaluation):\n",
    "    \"\"\"Agent learning by value gradient. The model is supposed to be known.\n",
    "    \n",
    "    Parameters\n",
    "    ----------\n",
    "    model : object of class Environment\n",
    "        Model.\n",
    "    player : int\n",
    "        Player for games (1 or -1, default = default player of the game).\n",
    "    gamma : float\n",
    "        Discount rate (in [0, 1], default = 1).\n",
    "    hidden_size : int\n",
    "        Size of the hidden layer (default = 100).\n",
    "    \"\"\"\n",
    "    def __init__(self, model, player=None, gamma=1, hidden_size=100):\n",
    "        super(ValueGradient, self).__init__(model, player=player)  \n",
    "        if not hasattr(model, \"get_next_state\"):\n",
    "            raise ValueError(\"The model must be known, with a 'get_next_state' method.\")\n",
    "        self.nn = Regressor(model, hidden_size)\n",
    "        self.gamma = gamma\n",
    "        \n",
    "    def get_best_actions(self, state):\n",
    "        \"\"\"Get the best actions in some state according to the value function.\"\"\" \n",
    "        actions = self.get_actions(state)\n",
    "        if len(actions) > 1:\n",
    "            # to be modified\n",
    "            # if the state is terminal, take the actual value\n",
    "            values = []\n",
    "            for action in actions:\n",
    "                next_state = self.model.get_next_state(state, action)\n",
    "                if self.model.is_terminal(next_state):\n",
    "                    values.append(self.model.get_reward(next_state))\n",
    "                else:\n",
    "                    code = self.model.one_hot_encode(next_state)\n",
    "                    code = torch.tensor(code).float()\n",
    "                    values.append(self.nn.forward(code).detach().item())\n",
    "            \n",
    "            if self.player == 1:\n",
    "                best_value = max(values)\n",
    "            else:\n",
    "                best_value = min(values)\n",
    "            actions = [action for action, value in zip(actions, values) if value==best_value]\n",
    "        return actions        \n",
    "    \n",
    "    def update_policy(self):\n",
    "        self.policy = self.get_policy()\n",
    "    \n",
    "    def get_samples(self, horizon, epsilon):\n",
    "        \"\"\"Get samples from one episode under the epsilon-greedy policy.\"\"\"\n",
    "        self.policy = self.randomize_policy(epsilon=epsilon)\n",
    "        self.model.reset()\n",
    "        state = self.model.state\n",
    "        states = []\n",
    "        rewards = []\n",
    "        for t in range(horizon):\n",
    "            action = self.get_action(state)\n",
    "            reward, stop = self.model.step(action)\n",
    "            states.append(state)\n",
    "            rewards.append(reward)\n",
    "            if stop:\n",
    "                break\n",
    "            state = self.model.state\n",
    "        gains = []\n",
    "        gain = 0\n",
    "        for reward in reversed(rewards):\n",
    "            gain = reward + self.gamma * gain\n",
    "            gains.append(gain)\n",
    "        return reversed(states), gains\n",
    "        \n",
    "    def train(self, horizon=100, n_episodes=1000, learning_rate=0.01, epsilon=0.1, desc=None):\n",
    "        \"\"\"Train the neural network with samples drawn from the epsilon-greedy policy.\"\"\"\n",
    "        optimizer = optim.Adam(self.nn.parameters(), lr=learning_rate)\n",
    "        for t in tqdm(range(n_episodes), desc=desc):\n",
    "            states, gains = self.get_samples(horizon, epsilon)\n",
    "            codes = [self.model.one_hot_encode(state) for state in states]\n",
    "            codes = np.array(codes)\n",
    "            codes = torch.tensor(codes).float()\n",
    "            values = self.nn.forward(codes)\n",
    "            gains = torch.tensor(gains).float().reshape(-1, 1)\n",
    "            mse = nn.MSELoss()\n",
    "            loss = mse(values, gains)\n",
    "            loss.backward()\n",
    "            optimizer.step()\n",
    "            optimizer.zero_grad()"
   ],
   "outputs": [],
   "execution_count": 21
  },
  {
   "metadata": {
    "ExecuteTime": {
     "end_time": "2024-12-17T10:23:24.336178Z",
     "start_time": "2024-12-17T10:23:24.310932Z"
    }
   },
   "cell_type": "code",
   "source": [
    "class MCLearning(OnlineEvaluation):\n",
    "    \"\"\"Online evaluation by Monte-Carlo.\"\"\"\n",
    "\n",
    "    def update_values(self, state=None, horizon=100):\n",
    "        \"\"\"Update the values from one episode.\"\"\"\n",
    "        stop, states, rewards = self.get_episode(state=state, horizon=horizon)\n",
    "        # remove last state\n",
    "        states.pop()\n",
    "        gain = 0\n",
    "        # backward update\n",
    "        for state, reward in zip(reversed(states), reversed(rewards)):\n",
    "            self.add_state(state)\n",
    "            code = self.model.encode(state)\n",
    "            self.count[code] += 1\n",
    "            # to be modified\n",
    "            # begin\n",
    "            gain = reward + self.gamma * gain\n",
    "            # end\n",
    "            diff = gain - self.value[code]\n",
    "            count = self.count[code]\n",
    "            self.value[code] += diff / count\n"
   ],
   "outputs": [],
   "execution_count": 40
  },
  {
   "cell_type": "code",
   "metadata": {
    "ExecuteTime": {
     "end_time": "2024-12-17T12:05:09.167480Z",
     "start_time": "2024-12-17T11:44:03.507391Z"
    }
   },
   "source": [
    "n_runs = 1000\n",
    "n_episodes = 1000\n",
    "issues = np.array([-1., 0., 1.])\n",
    "gains = {}\n",
    "adversary_policies = {'TicTacToe': ['random', 'perfect'], 'ConnectFour': ['random', 'one_step']}\n",
    "for Game in [TicTacToe, ConnectFour]:\n",
    "    print('-'*((120-13-len(Game.__name__))//2) + f' Simulating {Game.__name__} ' + '-'*((120-13-len(Game.__name__))//2))\n",
    "    gains_game = {}\n",
    "\n",
    "    for adversary_policy_name in adversary_policies[Game.__name__]:\n",
    "        if adversary_policy_name == 'perfect':\n",
    "            adversary_policy = ValueIteration(Game()).get_perfect_players()[1]\n",
    "        else:\n",
    "            adversary_policy = adversary_policy_name\n",
    "\n",
    "        game = Game(adversary_policy=adversary_policy)\n",
    "\n",
    "        # Value gradient\n",
    "        agent = ValueGradient(game)\n",
    "        agent.train(n_episodes=n_episodes, desc=f'Training {game.__class__.__name__} with Value Gradient and {adversary_policy_name} adversary')\n",
    "        agent.update_policy()\n",
    "        gains_value_gradient = agent.get_gains(n_runs=n_runs)\n",
    "        gains_value_gradient = np.array([np.sum(gains_value_gradient==k) for k in issues])/n_runs\n",
    "\n",
    "        # MC learning\n",
    "        algo = MCLearning(game, policy=adversary_policy)\n",
    "        for i in tqdm(range(n_episodes), desc=f'Training {game.__class__.__name__} with MC learning and {adversary_policy_name} adversary'):\n",
    "            algo.update_values()\n",
    "        agent = Agent(game, policy=algo.get_policy())\n",
    "        gains_mc_learning = agent.get_gains(n_runs=n_runs)\n",
    "        gains_mc_learning = np.array([np.sum(gains_mc_learning==k) for k in issues])/n_runs\n",
    "\n",
    "        gains_game[adversary_policy_name] = (gains_value_gradient, gains_mc_learning)\n",
    "    gains[game.__class__.__name__] = gains_game\n",
    "\n",
    "    # Show bar plot against different adversaries\n",
    "    for adversary_policy, gains_algos in gains_game.items():\n",
    "        fig, ax = plt.subplots()\n",
    "        bar_width = 0.35\n",
    "        index = np.array([-1., 0., 1.])\n",
    "        opacity = 0.8\n",
    "        rects1 = plt.bar(index - bar_width/2, gains_algos[0], bar_width, alpha=opacity, color='b', label='Value Gradient')\n",
    "        rects2 = plt.bar(index + bar_width/2, gains_algos[1], bar_width, alpha=opacity, color='r', label='MC Learning')\n",
    "        plt.xlabel('Gains')\n",
    "        plt.ylabel('Frequency')\n",
    "        plt.yticks(np.linspace(0., 1., 11, True), [f'{i}%' for i in np.linspace(0, 100, 11, True)])\n",
    "        plt.grid(axis='y')\n",
    "        plt.xticks(index, ['Losses', 'Draws', 'Wins'])\n",
    "        plt.title(f'Gains for {game.__class__.__name__} against {adversary_policy} adversary')\n",
    "        plt.legend()\n",
    "        plt.show()\n",
    "\n",
    "    game_results = []\n",
    "    for adversary_policy, gains_algos in gains_game.items():\n",
    "        game_results.append(f'<b>{adversary_policy} adversary:</b> Value Gradient wins {100*gains_algos[0][2]:.2f}% of the games, while MC Learning wins {100*gains_algos[1][2]:.2f}% of the games. Therefore, {\"Value Gradient\" if gains_algos[0][2] > gains_algos[1][2] else \"MC Learning\"} is the best algorithm against the {adversary_policy} adversary.')\n",
    "    display_answer(f'Results for {game.__class__.__name__}', game_results)"
   ],
   "outputs": [
    {
     "name": "stdout",
     "output_type": "stream",
     "text": [
      "------------------------------------------------- Simulating TicTacToe -------------------------------------------------\n"
     ]
    },
    {
     "data": {
      "text/plain": [
       "Training TicTacToe with Value Gradient and random adversary:   0%|          | 0/1000 [00:00<?, ?it/s]"
      ],
      "application/vnd.jupyter.widget-view+json": {
       "version_major": 2,
       "version_minor": 0,
       "model_id": "a7f3ed65b8064e19b75a723ff3fc221d"
      }
     },
     "metadata": {},
     "output_type": "display_data"
    },
    {
     "data": {
      "text/plain": [
       "Training TicTacToe with MC learning and random adversary:   0%|          | 0/1000 [00:00<?, ?it/s]"
      ],
      "application/vnd.jupyter.widget-view+json": {
       "version_major": 2,
       "version_minor": 0,
       "model_id": "b107532b90e84df4874ad583b0475865"
      }
     },
     "metadata": {},
     "output_type": "display_data"
    },
    {
     "data": {
      "text/plain": [
       "Training TicTacToe with Value Gradient and perfect adversary:   0%|          | 0/1000 [00:00<?, ?it/s]"
      ],
      "application/vnd.jupyter.widget-view+json": {
       "version_major": 2,
       "version_minor": 0,
       "model_id": "7a70f6ac84d7486191ef88fd039fd1da"
      }
     },
     "metadata": {},
     "output_type": "display_data"
    },
    {
     "data": {
      "text/plain": [
       "Training TicTacToe with MC learning and perfect adversary:   0%|          | 0/1000 [00:00<?, ?it/s]"
      ],
      "application/vnd.jupyter.widget-view+json": {
       "version_major": 2,
       "version_minor": 0,
       "model_id": "734aef99f6504ad98d4f7b546015b243"
      }
     },
     "metadata": {},
     "output_type": "display_data"
    },
    {
     "data": {
      "text/plain": [
       "<Figure size 432x288 with 1 Axes>"
      ],
      "image/png": "[encoded data removed]"
     },
     "metadata": {
      "needs_background": "light"
     },
     "output_type": "display_data"
    },
    {
     "data": {
      "text/plain": [
       "<Figure size 432x288 with 1 Axes>"
      ],
      "image/png": "[encoded data removed]"
     },
     "metadata": {
      "needs_background": "light"
     },
     "output_type": "display_data"
    },
    {
     "data": {
      "text/plain": [
       "<IPython.core.display.HTML object>"
      ],
      "text/html": [
       "<div class=\"alert alert-block alert-success\"> <h1>Results for TicTacToe:</h1><ul><li><b>random adversary:</b> Value Gradient wins 86.20% of the games, while MC Learning wins 86.60% of the games. Therefore, MC Learning is the best algorithm against the random adversary.</li><li><b>perfect adversary:</b> Value Gradient wins 0.00% of the games, while MC Learning wins 0.00% of the games. Therefore, MC Learning is the best algorithm against the perfect adversary.</li></ul></div>"
      ]
     },
     "metadata": {},
     "output_type": "display_data"
    },
    {
     "name": "stdout",
     "output_type": "stream",
     "text": [
      "------------------------------------------------ Simulating ConnectFour ------------------------------------------------\n"
     ]
    },
    {
     "data": {
      "text/plain": [
       "Training ConnectFour with Value Gradient and random adversary:   0%|          | 0/1000 [00:00<?, ?it/s]"
      ],
      "application/vnd.jupyter.widget-view+json": {
       "version_major": 2,
       "version_minor": 0,
       "model_id": "04ea96f168824194a3583bf93e2ca967"
      }
     },
     "metadata": {},
     "output_type": "display_data"
    },
    {
     "data": {
      "text/plain": [
       "Training ConnectFour with MC learning and random adversary:   0%|          | 0/1000 [00:00<?, ?it/s]"
      ],
      "application/vnd.jupyter.widget-view+json": {
       "version_major": 2,
       "version_minor": 0,
       "model_id": "f215fe7766174cb6ab27b0afa196e801"
      }
     },
     "metadata": {},
     "output_type": "display_data"
    },
    {
     "data": {
      "text/plain": [
       "Training ConnectFour with Value Gradient and one_step adversary:   0%|          | 0/1000 [00:00<?, ?it/s]"
      ],
      "application/vnd.jupyter.widget-view+json": {
       "version_major": 2,
       "version_minor": 0,
       "model_id": "79d6ae0a9b174424b37beb5eaa987db6"
      }
     },
     "metadata": {},
     "output_type": "display_data"
    },
    {
     "data": {
      "text/plain": [
       "Training ConnectFour with MC learning and one_step adversary:   0%|          | 0/1000 [00:00<?, ?it/s]"
      ],
      "application/vnd.jupyter.widget-view+json": {
       "version_major": 2,
       "version_minor": 0,
       "model_id": "e61dc35c58ae4e7fbdf3370faeef81f7"
      }
     },
     "metadata": {},
     "output_type": "display_data"
    },
    {
     "data": {
      "text/plain": [
       "<Figure size 432x288 with 1 Axes>"
      ],
      "image/png": "[encoded data removed]"
     },
     "metadata": {
      "needs_background": "light"
     },
     "output_type": "display_data"
    },
    {
     "data": {
      "text/plain": [
       "<Figure size 432x288 with 1 Axes>"
      ],
      "image/png": "[encoded data removed]"
     },
     "metadata": {
      "needs_background": "light"
     },
     "output_type": "display_data"
    },
    {
     "data": {
      "text/plain": [
       "<IPython.core.display.HTML object>"
      ],
      "text/html": [
       "<div class=\"alert alert-block alert-success\"> <h1>Results for ConnectFour:</h1><ul><li><b>random adversary:</b> Value Gradient wins 86.00% of the games, while MC Learning wins 84.50% of the games. Therefore, Value Gradient is the best algorithm against the random adversary.</li><li><b>one_step adversary:</b> Value Gradient wins 29.30% of the games, while MC Learning wins 33.60% of the games. Therefore, MC Learning is the best algorithm against the one_step adversary.</li></ul></div>"
      ]
     },
     "metadata": {},
     "output_type": "display_data"
    }
   ],
   "execution_count": 44
  },
  {
   "cell_type": "markdown",
   "metadata": {},
   "source": [
    "## Policy gradient"
   ]
  },
  {
   "cell_type": "markdown",
   "metadata": {},
   "source": [
    "We now consider a policy-based method. The neural network is a classifier that approximates the optimal policy. It returns the probability of each action."
   ]
  },
  {
   "cell_type": "code",
   "execution_count": null,
   "metadata": {},
   "outputs": [],
   "source": [
    "class Classifier(nn.Module):\n",
    "    \"\"\"Neural network for policy gradient. Return the distribution of actions in each state.\"\"\"\n",
    "    def __init__(self, model, hidden_size):\n",
    "        if not hasattr(model, 'one_hot_encode'):\n",
    "            raise ValueError(\"The environment must have a one-hot encoding of states.\")   \n",
    "        super(Classifier, self).__init__()\n",
    "        self.model = model\n",
    "        actions = model.get_all_actions()\n",
    "        if self.model.is_game():\n",
    "            # remove action when passing\n",
    "            actions.pop()\n",
    "        self.actions = actions\n",
    "        state = model.init_state()\n",
    "        code = model.one_hot_encode(state)\n",
    "        input_size = len(code)\n",
    "        output_size = len(actions)\n",
    "        self.nn = nn.Sequential(\n",
    "            nn.Linear(input_size, hidden_size), \n",
    "            nn.GELU(), \n",
    "            nn.Linear(hidden_size, output_size), \n",
    "            nn.Softmax(dim=0))\n",
    "\n",
    "    def forward(self, code):\n",
    "        \"\"\"Forward pass.\"\"\"\n",
    "        return self.nn(code)"
   ]
  },
  {
   "cell_type": "code",
   "execution_count": null,
   "metadata": {},
   "outputs": [],
   "source": [
    "game = TicTacToe()\n",
    "classifier = Classifier(model=game, hidden_size=100)\n",
    "state = game.state\n",
    "# one-hot encoding\n",
    "code = game.one_hot_encode(state)\n",
    "# tensor\n",
    "code = torch.tensor(code).float()\n",
    "probs = classifier.forward(code).detach()\n",
    "print(f'probs: {probs}, len(probs): {len(probs)}, sum(probs): {torch.sum(probs)}')"
   ]
  },
  {
   "cell_type": "markdown",
   "metadata": {},
   "source": [
    "## To do\n",
    "\n",
    "* Complete the method 'train' of the class PolicyGradient. Observe that a penalty is assigned for illegal actions.\n",
    "* Test the agent on TicTacToe, against (1) a random adversary and (2) a perfect adversary.\n",
    "* Test the agent on ConnectFour, against (1) a random adversary and (2) an adversary with the one-step policy.\n",
    "* Compare your results to another learning strategy (e.g., Monte-Carlo learning) and interpret the results.\n",
    "* (bonus) Try to improve policy gradient on TicTacToe with a perfect adversary."
   ]
  },
  {
   "cell_type": "code",
   "execution_count": null,
   "metadata": {},
   "outputs": [],
   "source": [
    "class PolicyGradient(Agent):\n",
    "    \"\"\"Agent learning by policy gradient.\n",
    "    \n",
    "    Parameters\n",
    "    ----------\n",
    "    model : object of class Environment\n",
    "        Model.a\n",
    "    player : int\n",
    "        Player for games (1 or -1, default = default player of the game).\n",
    "    gamma : float\n",
    "        Discount rate (in [0, 1], default = 1).\n",
    "    hidden_size : int\n",
    "        Size of the hidden layer (default = 100).\n",
    "    penalty : float\n",
    "        Penalty for illegal actions (default = -5).\n",
    "    min_log : float\n",
    "        Minimal value to compute the log (default = 1e-10)\n",
    "    \"\"\"\n",
    "    def __init__(self, model, player=None, gamma=1, hidden_size=100, penalty=-1, min_log=1e-10):\n",
    "        super(PolicyGradient, self).__init__(model, player=player)  \n",
    "        self.nn = Classifier(model, hidden_size)\n",
    "        self.action_id = {action: i for i, action in enumerate(self.nn.actions)}\n",
    "        self.gamma = gamma\n",
    "        self.penalty = penalty\n",
    "        self.min_log = min_log\n",
    "        \n",
    "    def get_policy(self):\n",
    "        \"\"\"Get the current policy.\"\"\"\n",
    "        def policy(state):\n",
    "            actions = self.model.get_actions(state)\n",
    "            if len(actions) > 1:\n",
    "                win_actions = []\n",
    "                # check win actions\n",
    "                if self.model.is_game():\n",
    "                    next_states = [self.model.get_next_state(state, action) for action in actions]\n",
    "                    win_actions = [self.model.get_reward(next_state) == self.player for next_state in next_states]\n",
    "                if any(win_actions):\n",
    "                    probs = np.array(win_actions).astype(float)\n",
    "                else:\n",
    "                    # get prob of each action\n",
    "                    code = self.model.one_hot_encode(state)\n",
    "                    code = torch.tensor(code).float()\n",
    "                    probs = self.nn.forward(code)\n",
    "                    probs = probs.detach().numpy()\n",
    "                    # restrict to available actions\n",
    "                    indices = [self.action_id[action] for action in actions]\n",
    "                    probs = probs[indices]                    \n",
    "                # renormalize\n",
    "                if np.sum(probs) > 0:\n",
    "                    probs = probs / np.sum(probs)\n",
    "                else:\n",
    "                    probs = np.ones(len(actions)) / len(actions)\n",
    "            else:\n",
    "                probs = [1]\n",
    "            return probs, actions\n",
    "        return policy\n",
    "    \n",
    "    def update_policy(self):\n",
    "        \"\"\"Update the policy.\"\"\"\n",
    "        self.policy = self.get_policy()\n",
    "    \n",
    "    def get_samples(self, horizon):\n",
    "        \"\"\"Get samples from one episode.\"\"\"\n",
    "        self.update_policy()\n",
    "        rewards = []\n",
    "        log_probs = []\n",
    "        log_probs_illegal = []\n",
    "        self.model.reset()\n",
    "        state = self.model.state\n",
    "        for t in range(horizon):\n",
    "            action = self.get_action(state)\n",
    "            if action is not None:\n",
    "                i = self.action_id[action]\n",
    "                code = self.model.one_hot_encode(state)\n",
    "                code = torch.tensor(code).float()\n",
    "                probs = self.nn.forward(code)\n",
    "                prob = torch.clip(probs[i], self.min_log, 1 - self.min_log)\n",
    "                log_prob = torch.log(prob).reshape(1)\n",
    "\n",
    "                actions = self.model.get_actions(state)\n",
    "                if action in actions:\n",
    "                    reward, stop = self.model.step(action)\n",
    "                    state = self.model.state\n",
    "                    rewards.append(reward)\n",
    "                    log_probs.append(log_prob)\n",
    "                else:\n",
    "                    log_probs_illegal.append(log_prob)\n",
    "            else:\n",
    "                reward, stop = self.model.step(action)\n",
    "                state = self.model.state\n",
    "            if stop:\n",
    "                break\n",
    "        gain = 0\n",
    "        for reward in reversed(rewards):\n",
    "            gain = reward + self.gamma * gain\n",
    "        return gain, log_probs, log_probs_illegal\n",
    "        \n",
    "    def train(self, horizon=100, n_episodes=1000, learning_rate=0.01):\n",
    "        \"\"\"Train the neural network.\"\"\"\n",
    "        optimizer = optim.Adam(self.nn.parameters(), lr=learning_rate)\n",
    "        for t in range(n_episodes):\n",
    "            gain, log_probs, log_probs_illegal = self.get_samples(horizon)\n",
    "            loss = 0\n",
    "            if len(log_probs):\n",
    "                # to be modified\n",
    "                loss += 0\n",
    "            if len(log_probs_illegal):\n",
    "                loss += 0\n",
    "            loss.backward()\n",
    "            optimizer.step()\n",
    "            optimizer.zero_grad()\n"
   ]
  }
 ],
 "metadata": {
  "kernelspec": {
   "display_name": "Python 3 (ipykernel)",
   "language": "python",
   "name": "python3"
  },
  "language_info": {
   "codemirror_mode": {
    "name": "ipython",
    "version": 3
   },
   "file_extension": ".py",
   "mimetype": "text/x-python",
   "name": "python",
   "nbconvert_exporter": "python",
   "pygments_lexer": "ipython3",
   "version": "3.9.18"
  }
 },
 "nbformat": 4,
 "nbformat_minor": 4
}
